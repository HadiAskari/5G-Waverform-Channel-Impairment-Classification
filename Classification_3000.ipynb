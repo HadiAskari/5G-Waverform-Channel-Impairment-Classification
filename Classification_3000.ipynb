{
  "nbformat": 4,
  "nbformat_minor": 0,
  "metadata": {
    "accelerator": "GPU",
    "colab": {
      "name": "Classification_3000.ipynb",
      "provenance": []
    },
    "kernelspec": {
      "display_name": "Python 3",
      "name": "python3"
    }
  },
  "cells": [
    {
      "cell_type": "code",
      "metadata": {
        "id": "41OVtvW5LVJ9"
      },
      "source": [
        "from sklearn.preprocessing import LabelBinarizer as LB\r\n",
        "from sklearn.preprocessing import normalize \r\n",
        "from sklearn.metrics import confusion_matrix\r\n",
        "from sklearn.metrics import accuracy_score\r\n",
        "# --------------------\r\n",
        "from keras.layers.convolutional import Conv2D, ZeroPadding2D\r\n",
        "from keras.layers.core import Reshape, Flatten, Dropout\r\n",
        "from keras.callbacks import EarlyStopping\r\n",
        "from keras.models import Sequential\r\n",
        "from keras.models import load_model\r\n",
        "from keras.layers import Dense\r\n",
        "from keras import metrics\r\n",
        "# --------------------\r\n",
        "from pandas import DataFrame as df\r\n",
        "# --------------------\r\n",
        "import matplotlib.pyplot as plt\r\n",
        "import tensorflow as tf\r\n",
        "import numpy as np\r\n",
        "# --------------------\r\n",
        "import tarfile\r\n",
        "import pickle\r\n",
        "import random\r\n",
        "import keras\r\n",
        "import sys\r\n",
        "import gc"
      ],
      "execution_count": null,
      "outputs": []
    },
    {
      "cell_type": "code",
      "metadata": {
        "colab": {
          "base_uri": "https://localhost:8080/"
        },
        "id": "sr2tq4e-LkVK",
        "outputId": "72030866-4eaa-4f04-dbbd-68e2638daee6"
      },
      "source": [
        "from google.colab import drive\r\n",
        "drive.mount('/content/drive')"
      ],
      "execution_count": null,
      "outputs": [
        {
          "output_type": "stream",
          "text": [
            "Mounted at /content/drive\n"
          ],
          "name": "stdout"
        }
      ]
    },
    {
      "cell_type": "code",
      "metadata": {
        "id": "2ughWF85Lmp3"
      },
      "source": [
        "import glob\r\n",
        "directory=[]\r\n",
        "for name in glob.glob('/content/drive/MyDrive/FYP - Neural 5G/Data /AWGN - Data (3000 samples) /0-5/*'): \r\n",
        "    directory.append(name) \r\n",
        "for name in glob.glob('/content/drive/MyDrive/FYP - Neural 5G/Data /AWGN - Data (3000 samples) /6-10/*'): \r\n",
        "    directory.append(name) \r\n",
        "for name in glob.glob('/content/drive/MyDrive/FYP - Neural 5G/Data /AWGN - Data (3000 samples) /11-15/*'): \r\n",
        "    directory.append(name) \r\n",
        "for name in glob.glob('/content/drive/MyDrive/FYP - Neural 5G/Data /AWGN - Data (3000 samples) /16-20/*'): \r\n",
        "    directory.append(name) \r\n",
        "for name in glob.glob('/content/drive/MyDrive/FYP - Neural 5G/Data /AWGN - Data (3000 samples) /21-25/*'): \r\n",
        "    directory.append(name) \r\n",
        "for name in glob.glob('/content/drive/MyDrive/FYP - Neural 5G/Data /AWGN - Data (3000 samples) /26-30/*'): \r\n",
        "    directory.append(name) \r\n"
      ],
      "execution_count": null,
      "outputs": []
    },
    {
      "cell_type": "code",
      "metadata": {
        "colab": {
          "base_uri": "https://localhost:8080/"
        },
        "id": "dh1x4-68L9UV",
        "outputId": "87ab0466-17ed-4e01-fa7e-d1adb92beacb"
      },
      "source": [
        "len(directory)"
      ],
      "execution_count": null,
      "outputs": [
        {
          "output_type": "execute_result",
          "data": {
            "text/plain": [
              "30"
            ]
          },
          "metadata": {
            "tags": []
          },
          "execution_count": 4
        }
      ]
    },
    {
      "cell_type": "code",
      "metadata": {
        "colab": {
          "base_uri": "https://localhost:8080/"
        },
        "id": "V0bCm_fTMDmb",
        "outputId": "5c01ed58-afb0-467f-f872-d5eb78e52e8e"
      },
      "source": [
        "directory"
      ],
      "execution_count": null,
      "outputs": [
        {
          "output_type": "execute_result",
          "data": {
            "text/plain": [
              "['/content/drive/MyDrive/FYP - Neural 5G/Data /AWGN - Data (3000 samples) /0-5/2.txt',\n",
              " '/content/drive/MyDrive/FYP - Neural 5G/Data /AWGN - Data (3000 samples) /0-5/3.txt',\n",
              " '/content/drive/MyDrive/FYP - Neural 5G/Data /AWGN - Data (3000 samples) /0-5/4.txt',\n",
              " '/content/drive/MyDrive/FYP - Neural 5G/Data /AWGN - Data (3000 samples) /0-5/5.txt',\n",
              " '/content/drive/MyDrive/FYP - Neural 5G/Data /AWGN - Data (3000 samples) /0-5/1.txt',\n",
              " '/content/drive/MyDrive/FYP - Neural 5G/Data /AWGN - Data (3000 samples) /6-10/1.txt',\n",
              " '/content/drive/MyDrive/FYP - Neural 5G/Data /AWGN - Data (3000 samples) /6-10/2.txt',\n",
              " '/content/drive/MyDrive/FYP - Neural 5G/Data /AWGN - Data (3000 samples) /6-10/3.txt',\n",
              " '/content/drive/MyDrive/FYP - Neural 5G/Data /AWGN - Data (3000 samples) /6-10/4.txt',\n",
              " '/content/drive/MyDrive/FYP - Neural 5G/Data /AWGN - Data (3000 samples) /6-10/5.txt',\n",
              " '/content/drive/MyDrive/FYP - Neural 5G/Data /AWGN - Data (3000 samples) /11-15/1.txt',\n",
              " '/content/drive/MyDrive/FYP - Neural 5G/Data /AWGN - Data (3000 samples) /11-15/2.txt',\n",
              " '/content/drive/MyDrive/FYP - Neural 5G/Data /AWGN - Data (3000 samples) /11-15/3.txt',\n",
              " '/content/drive/MyDrive/FYP - Neural 5G/Data /AWGN - Data (3000 samples) /11-15/4.txt',\n",
              " '/content/drive/MyDrive/FYP - Neural 5G/Data /AWGN - Data (3000 samples) /11-15/5.txt',\n",
              " '/content/drive/MyDrive/FYP - Neural 5G/Data /AWGN - Data (3000 samples) /16-20/1.txt',\n",
              " '/content/drive/MyDrive/FYP - Neural 5G/Data /AWGN - Data (3000 samples) /16-20/2.txt',\n",
              " '/content/drive/MyDrive/FYP - Neural 5G/Data /AWGN - Data (3000 samples) /16-20/3.txt',\n",
              " '/content/drive/MyDrive/FYP - Neural 5G/Data /AWGN - Data (3000 samples) /16-20/4.txt',\n",
              " '/content/drive/MyDrive/FYP - Neural 5G/Data /AWGN - Data (3000 samples) /16-20/5.txt',\n",
              " '/content/drive/MyDrive/FYP - Neural 5G/Data /AWGN - Data (3000 samples) /21-25/1.txt',\n",
              " '/content/drive/MyDrive/FYP - Neural 5G/Data /AWGN - Data (3000 samples) /21-25/2.txt',\n",
              " '/content/drive/MyDrive/FYP - Neural 5G/Data /AWGN - Data (3000 samples) /21-25/3.txt',\n",
              " '/content/drive/MyDrive/FYP - Neural 5G/Data /AWGN - Data (3000 samples) /21-25/4.txt',\n",
              " '/content/drive/MyDrive/FYP - Neural 5G/Data /AWGN - Data (3000 samples) /21-25/5.txt',\n",
              " '/content/drive/MyDrive/FYP - Neural 5G/Data /AWGN - Data (3000 samples) /26-30/1.txt',\n",
              " '/content/drive/MyDrive/FYP - Neural 5G/Data /AWGN - Data (3000 samples) /26-30/2.txt',\n",
              " '/content/drive/MyDrive/FYP - Neural 5G/Data /AWGN - Data (3000 samples) /26-30/3.txt',\n",
              " '/content/drive/MyDrive/FYP - Neural 5G/Data /AWGN - Data (3000 samples) /26-30/4.txt',\n",
              " '/content/drive/MyDrive/FYP - Neural 5G/Data /AWGN - Data (3000 samples) /26-30/5.txt']"
            ]
          },
          "metadata": {
            "tags": []
          },
          "execution_count": 5
        }
      ]
    },
    {
      "cell_type": "code",
      "metadata": {
        "id": "q6q3h8-uMMTH"
      },
      "source": [
        "import os\r\n",
        "import numpy as np\r\n",
        "from PIL import Image\r\n",
        "import matplotlib.pyplot as plt\r\n",
        "import matplotlib.image as mpimg\r\n",
        "from numpy import asarray\r\n",
        "import pandas as pd\r\n",
        "import cv2\r\n",
        "from google.colab.patches import cv2_imshow\r\n",
        "import glob\r\n",
        "from PIL import ImageFilter\r\n",
        "import shutil\r\n",
        "import glob\r\n",
        "import shutil\r\n",
        "from pylab import *\r\n",
        "import matplotlib.gridspec as gridspec\r\n",
        "import pathlib\r\n",
        "from pathlib import Path"
      ],
      "execution_count": null,
      "outputs": []
    },
    {
      "cell_type": "code",
      "metadata": {
        "id": "EY9teQPeMTmR"
      },
      "source": [
        "master_data=[]\r\n",
        "for i in range(len(directory)):\r\n",
        "  targets=directory[i] \r\n",
        "  target_pss=np.loadtxt(targets, delimiter=\",\")\r\n",
        "  target_pss=transpose(target_pss)\r\n",
        "  target_pss=np.asarray(target_pss)\r\n",
        "  master_data.append(target_pss)\r\n"
      ],
      "execution_count": null,
      "outputs": []
    },
    {
      "cell_type": "code",
      "metadata": {
        "colab": {
          "base_uri": "https://localhost:8080/"
        },
        "id": "_Adg4ItzmiMI",
        "outputId": "1311f536-a74d-49a3-e0fc-ccc257fe1b82"
      },
      "source": [
        "x=master_data[15]\r\n",
        "x.shape"
      ],
      "execution_count": null,
      "outputs": [
        {
          "output_type": "execute_result",
          "data": {
            "text/plain": [
              "(2, 54800)"
            ]
          },
          "metadata": {
            "tags": []
          },
          "execution_count": 8
        }
      ]
    },
    {
      "cell_type": "code",
      "metadata": {
        "id": "xYUV7xqaSIVC"
      },
      "source": [
        "master_data_2=[]\r\n",
        "master_labels=np.zeros(shape=(3000,6))\r\n",
        "master1=np.zeros(shape=(3000,2,548))\r\n",
        "list_label=[\"0-5\",\"6-10\",\"11-15\",\"16-20\",\"21-25\",\"26-30\"]"
      ],
      "execution_count": null,
      "outputs": []
    },
    {
      "cell_type": "code",
      "metadata": {
        "id": "TQNJ44JvNJug"
      },
      "source": [
        "for j in range(30):\r\n",
        "  for i in range(100):\r\n",
        "    s=(100*j)+i\r\n",
        "    master1[s,:,:]=master_data[j][:,(i*548):(548+(i*548))]\r\n",
        "    \r\n"
      ],
      "execution_count": null,
      "outputs": []
    },
    {
      "cell_type": "code",
      "metadata": {
        "colab": {
          "base_uri": "https://localhost:8080/"
        },
        "id": "48Ra5Ac6NVoU",
        "outputId": "343563c3-40cc-43a1-b0d6-6d05ac3cf26d"
      },
      "source": [
        "final_data=master1\r\n",
        "final_data.shape"
      ],
      "execution_count": null,
      "outputs": [
        {
          "output_type": "execute_result",
          "data": {
            "text/plain": [
              "(3000, 2, 548)"
            ]
          },
          "metadata": {
            "tags": []
          },
          "execution_count": 11
        }
      ]
    },
    {
      "cell_type": "code",
      "metadata": {
        "colab": {
          "base_uri": "https://localhost:8080/"
        },
        "id": "_wVEejIKRiKH",
        "outputId": "0889bcda-30d4-40d0-d5e9-80079fb3f45b"
      },
      "source": [
        "for i in range(500):\r\n",
        "  master_labels[i,0]=1\r\n",
        "  master_labels[i+500,1]=1\r\n",
        "  master_labels[i+1000,2]=1\r\n",
        "  master_labels[i+1500,3]=1\r\n",
        "  master_labels[i+2000,4]=1\r\n",
        "  master_labels[i+2500,5]=1\r\n",
        "\r\n",
        "master_labels.shape"
      ],
      "execution_count": null,
      "outputs": [
        {
          "output_type": "execute_result",
          "data": {
            "text/plain": [
              "(3000, 6)"
            ]
          },
          "metadata": {
            "tags": []
          },
          "execution_count": 12
        }
      ]
    },
    {
      "cell_type": "code",
      "metadata": {
        "colab": {
          "base_uri": "https://localhost:8080/"
        },
        "id": "9QrmUWVWUn9n",
        "outputId": "12169fd6-9f3f-4045-c6e0-12735a833758"
      },
      "source": [
        "master_labels[499]"
      ],
      "execution_count": null,
      "outputs": [
        {
          "output_type": "execute_result",
          "data": {
            "text/plain": [
              "array([1., 0., 0., 0., 0., 0.])"
            ]
          },
          "metadata": {
            "tags": []
          },
          "execution_count": 13
        }
      ]
    },
    {
      "cell_type": "code",
      "metadata": {
        "id": "0vS1190b5U9w"
      },
      "source": [
        "a=final_data\r\n",
        "b=master_labels"
      ],
      "execution_count": null,
      "outputs": []
    },
    {
      "cell_type": "code",
      "metadata": {
        "id": "DAECWhAg5lQm"
      },
      "source": [
        "from mlxtend.preprocessing import shuffle_arrays_unison\r\n",
        "X,Y=shuffle_arrays_unison(arrays=[a, b], random_seed=3)"
      ],
      "execution_count": null,
      "outputs": []
    },
    {
      "cell_type": "code",
      "metadata": {
        "id": "KCy3UoQj5qpl"
      },
      "source": [
        "X_train=X[0:2500,:,:]\r\n",
        "X_test=X[2500:,:,:]\r\n",
        "Y_train=Y[0:2500,:]\r\n",
        "Y_test=Y[2500:,:]"
      ],
      "execution_count": null,
      "outputs": []
    },
    {
      "cell_type": "code",
      "metadata": {
        "colab": {
          "base_uri": "https://localhost:8080/"
        },
        "id": "A6cOEl6T6FSR",
        "outputId": "ea3f85f0-b9c8-4cfe-9963-087a41bbc231"
      },
      "source": [
        "in_shape = final_data[0].shape\r\n",
        "out_shape = tuple([1]) + in_shape\r\n",
        "print(in_shape)\r\n",
        "print(out_shape)"
      ],
      "execution_count": null,
      "outputs": [
        {
          "output_type": "stream",
          "text": [
            "(2, 548)\n",
            "(1, 2, 548)\n"
          ],
          "name": "stdout"
        }
      ]
    },
    {
      "cell_type": "code",
      "metadata": {
        "id": "juti6N-06Qju"
      },
      "source": [
        "dr = 0.5\r\n",
        "model = Sequential()\r\n",
        "model.add(Reshape(out_shape, input_shape = in_shape))\r\n",
        "model.add(ZeroPadding2D((0, 2), data_format = 'channels_first'))\r\n",
        "model.add(Conv2D(256, (1, 3), padding = 'valid', activation = \"relu\", name=\"conv1\", kernel_initializer='glorot_uniform', data_format=\"channels_first\"))\r\n",
        "model.add(Dropout(dr))\r\n",
        "model.add(ZeroPadding2D((0,2), data_format = 'channels_first'))\r\n",
        "model.add(Conv2D(80, (2, 3), activation=\"relu\", name=\"conv3\", padding=\"valid\", kernel_initializer=\"glorot_uniform\", data_format=\"channels_first\"))\r\n",
        "model.add(Dropout(dr))\r\n",
        "model.add(Flatten())   \r\n",
        "model.add(Dense(256, activation=\"relu\", name=\"dense1\", kernel_initializer=\"he_normal\",))\r\n",
        "model.add(Dropout(dr))\r\n",
        "model.add(Dense(6, name=\"dense3\", kernel_initializer=\"he_normal\", activation = 'softmax'))\r\n",
        "model.add(Reshape([len(list_label)]))"
      ],
      "execution_count": null,
      "outputs": []
    },
    {
      "cell_type": "code",
      "metadata": {
        "colab": {
          "base_uri": "https://localhost:8080/"
        },
        "id": "AdcEFtvC3acs",
        "outputId": "578611b5-26bf-4d3e-b08e-4b271b336bbc"
      },
      "source": [
        "model.compile(loss='categorical_crossentropy', optimizer='adam', metrics = ['accuracy'])\r\n",
        "model.summary()"
      ],
      "execution_count": null,
      "outputs": [
        {
          "output_type": "stream",
          "text": [
            "Model: \"sequential\"\n",
            "_________________________________________________________________\n",
            "Layer (type)                 Output Shape              Param #   \n",
            "=================================================================\n",
            "reshape (Reshape)            (None, 1, 2, 548)         0         \n",
            "_________________________________________________________________\n",
            "zero_padding2d (ZeroPadding2 (None, 1, 2, 552)         0         \n",
            "_________________________________________________________________\n",
            "conv1 (Conv2D)               (None, 256, 2, 550)       1024      \n",
            "_________________________________________________________________\n",
            "dropout (Dropout)            (None, 256, 2, 550)       0         \n",
            "_________________________________________________________________\n",
            "zero_padding2d_1 (ZeroPaddin (None, 256, 2, 554)       0         \n",
            "_________________________________________________________________\n",
            "conv3 (Conv2D)               (None, 80, 1, 552)        122960    \n",
            "_________________________________________________________________\n",
            "dropout_1 (Dropout)          (None, 80, 1, 552)        0         \n",
            "_________________________________________________________________\n",
            "flatten (Flatten)            (None, 44160)             0         \n",
            "_________________________________________________________________\n",
            "dense1 (Dense)               (None, 256)               11305216  \n",
            "_________________________________________________________________\n",
            "dropout_2 (Dropout)          (None, 256)               0         \n",
            "_________________________________________________________________\n",
            "dense3 (Dense)               (None, 6)                 1542      \n",
            "_________________________________________________________________\n",
            "reshape_1 (Reshape)          (None, 6)                 0         \n",
            "=================================================================\n",
            "Total params: 11,430,742\n",
            "Trainable params: 11,430,742\n",
            "Non-trainable params: 0\n",
            "_________________________________________________________________\n"
          ],
          "name": "stdout"
        }
      ]
    },
    {
      "cell_type": "code",
      "metadata": {
        "id": "0_oY92Cw6p8S"
      },
      "source": [
        "%load_ext tensorboard\r\n",
        "import datetime\r\n",
        "log_dir = \"logs/fit/\" + datetime.datetime.now().strftime(\"%Y%m%d-%H%M%S\")\r\n",
        "tensorboard_callback = tf.keras.callbacks.TensorBoard(log_dir=log_dir, histogram_freq=1)"
      ],
      "execution_count": null,
      "outputs": []
    },
    {
      "cell_type": "code",
      "metadata": {
        "colab": {
          "background_save": true,
          "base_uri": "https://localhost:8080/"
        },
        "id": "dIYtc9NX_cMV",
        "outputId": "b03c576c-b14f-447b-f2a0-52b69181da85"
      },
      "source": [
        "model.fit(X_train, Y_train, epochs = 50, batch_size = 64, validation_data=(X_test,Y_test), callbacks=[tensorboard_callback])"
      ],
      "execution_count": null,
      "outputs": [
        {
          "output_type": "stream",
          "text": [
            "Epoch 1/50\n",
            "40/40 [==============================] - 1s 33ms/step - loss: 0.2290 - accuracy: 0.9072 - val_loss: 0.7270 - val_accuracy: 0.8380\n",
            "Epoch 2/50\n",
            "40/40 [==============================] - 1s 27ms/step - loss: 0.2422 - accuracy: 0.9052 - val_loss: 0.6755 - val_accuracy: 0.8260\n",
            "Epoch 3/50\n",
            "40/40 [==============================] - 1s 27ms/step - loss: 0.1949 - accuracy: 0.9184 - val_loss: 0.8493 - val_accuracy: 0.8160\n",
            "Epoch 4/50\n",
            "40/40 [==============================] - 1s 27ms/step - loss: 0.2083 - accuracy: 0.9172 - val_loss: 0.7955 - val_accuracy: 0.8240\n",
            "Epoch 5/50\n",
            "40/40 [==============================] - 1s 27ms/step - loss: 0.2209 - accuracy: 0.9104 - val_loss: 0.6937 - val_accuracy: 0.8240\n",
            "Epoch 6/50\n",
            "40/40 [==============================] - 1s 27ms/step - loss: 0.2039 - accuracy: 0.9104 - val_loss: 0.6835 - val_accuracy: 0.8220\n",
            "Epoch 7/50\n",
            "40/40 [==============================] - 1s 27ms/step - loss: 0.1919 - accuracy: 0.9204 - val_loss: 0.7364 - val_accuracy: 0.8200\n",
            "Epoch 8/50\n",
            "40/40 [==============================] - 1s 27ms/step - loss: 0.2109 - accuracy: 0.9084 - val_loss: 0.7462 - val_accuracy: 0.8180\n",
            "Epoch 9/50\n",
            "40/40 [==============================] - 1s 27ms/step - loss: 0.2133 - accuracy: 0.9100 - val_loss: 0.7665 - val_accuracy: 0.8180\n",
            "Epoch 10/50\n",
            "40/40 [==============================] - 1s 27ms/step - loss: 0.1965 - accuracy: 0.9196 - val_loss: 0.7380 - val_accuracy: 0.8240\n",
            "Epoch 11/50\n",
            "40/40 [==============================] - 1s 27ms/step - loss: 0.1964 - accuracy: 0.9168 - val_loss: 0.6940 - val_accuracy: 0.8140\n",
            "Epoch 12/50\n",
            "40/40 [==============================] - 1s 27ms/step - loss: 0.2138 - accuracy: 0.9132 - val_loss: 0.8242 - val_accuracy: 0.8240\n",
            "Epoch 13/50\n",
            "40/40 [==============================] - 1s 27ms/step - loss: 0.2256 - accuracy: 0.9072 - val_loss: 0.6951 - val_accuracy: 0.8280\n",
            "Epoch 14/50\n",
            "40/40 [==============================] - 1s 27ms/step - loss: 0.2115 - accuracy: 0.9052 - val_loss: 0.7242 - val_accuracy: 0.8280\n",
            "Epoch 15/50\n",
            "40/40 [==============================] - 1s 27ms/step - loss: 0.2291 - accuracy: 0.9044 - val_loss: 0.6887 - val_accuracy: 0.8180\n",
            "Epoch 16/50\n",
            "40/40 [==============================] - 1s 28ms/step - loss: 0.2110 - accuracy: 0.9092 - val_loss: 0.7027 - val_accuracy: 0.8140\n",
            "Epoch 17/50\n",
            "40/40 [==============================] - 1s 28ms/step - loss: 0.2128 - accuracy: 0.9092 - val_loss: 0.6900 - val_accuracy: 0.8200\n",
            "Epoch 18/50\n",
            "40/40 [==============================] - 1s 27ms/step - loss: 0.2204 - accuracy: 0.9036 - val_loss: 0.6413 - val_accuracy: 0.8320\n",
            "Epoch 19/50\n",
            "40/40 [==============================] - 1s 27ms/step - loss: 0.2035 - accuracy: 0.9216 - val_loss: 0.6999 - val_accuracy: 0.8300\n",
            "Epoch 20/50\n",
            "40/40 [==============================] - 1s 27ms/step - loss: 0.2193 - accuracy: 0.9204 - val_loss: 0.7019 - val_accuracy: 0.8260\n",
            "Epoch 21/50\n",
            "40/40 [==============================] - 1s 27ms/step - loss: 0.2018 - accuracy: 0.9224 - val_loss: 0.8376 - val_accuracy: 0.8120\n",
            "Epoch 22/50\n",
            "40/40 [==============================] - 1s 28ms/step - loss: 0.2209 - accuracy: 0.9068 - val_loss: 0.7183 - val_accuracy: 0.8140\n",
            "Epoch 23/50\n",
            "40/40 [==============================] - 1s 27ms/step - loss: 0.2191 - accuracy: 0.8992 - val_loss: 0.6933 - val_accuracy: 0.8340\n",
            "Epoch 24/50\n",
            "40/40 [==============================] - 1s 28ms/step - loss: 0.2202 - accuracy: 0.9032 - val_loss: 0.7269 - val_accuracy: 0.8180\n",
            "Epoch 25/50\n",
            "40/40 [==============================] - 1s 28ms/step - loss: 0.2116 - accuracy: 0.9020 - val_loss: 0.7308 - val_accuracy: 0.8180\n",
            "Epoch 26/50\n",
            "40/40 [==============================] - 1s 28ms/step - loss: 0.1907 - accuracy: 0.9144 - val_loss: 0.7791 - val_accuracy: 0.8180\n",
            "Epoch 27/50\n",
            "40/40 [==============================] - 1s 28ms/step - loss: 0.2094 - accuracy: 0.9152 - val_loss: 0.7749 - val_accuracy: 0.8200\n",
            "Epoch 28/50\n",
            "40/40 [==============================] - 1s 27ms/step - loss: 0.2387 - accuracy: 0.9068 - val_loss: 0.6730 - val_accuracy: 0.8320\n",
            "Epoch 29/50\n",
            "40/40 [==============================] - 1s 28ms/step - loss: 0.1986 - accuracy: 0.9096 - val_loss: 0.7908 - val_accuracy: 0.8140\n",
            "Epoch 30/50\n",
            "40/40 [==============================] - 1s 27ms/step - loss: 0.2194 - accuracy: 0.9144 - val_loss: 0.6782 - val_accuracy: 0.8240\n",
            "Epoch 31/50\n",
            "40/40 [==============================] - 1s 27ms/step - loss: 0.2131 - accuracy: 0.9112 - val_loss: 0.7263 - val_accuracy: 0.8120\n",
            "Epoch 32/50\n",
            "40/40 [==============================] - 1s 27ms/step - loss: 0.2185 - accuracy: 0.9068 - val_loss: 0.7193 - val_accuracy: 0.8240\n",
            "Epoch 33/50\n",
            "40/40 [==============================] - 1s 28ms/step - loss: 0.2094 - accuracy: 0.9128 - val_loss: 0.6935 - val_accuracy: 0.8220\n",
            "Epoch 34/50\n",
            "40/40 [==============================] - 1s 28ms/step - loss: 0.2065 - accuracy: 0.9132 - val_loss: 0.6880 - val_accuracy: 0.8280\n",
            "Epoch 35/50\n",
            "40/40 [==============================] - 1s 27ms/step - loss: 0.2022 - accuracy: 0.9108 - val_loss: 0.6989 - val_accuracy: 0.8340\n",
            "Epoch 36/50\n",
            "40/40 [==============================] - 1s 27ms/step - loss: 0.2086 - accuracy: 0.9108 - val_loss: 0.6713 - val_accuracy: 0.8420\n",
            "Epoch 37/50\n",
            "40/40 [==============================] - 1s 27ms/step - loss: 0.2268 - accuracy: 0.9008 - val_loss: 0.6889 - val_accuracy: 0.8380\n",
            "Epoch 38/50\n",
            "40/40 [==============================] - 1s 28ms/step - loss: 0.2232 - accuracy: 0.9068 - val_loss: 0.6611 - val_accuracy: 0.8380\n",
            "Epoch 39/50\n",
            "40/40 [==============================] - 1s 27ms/step - loss: 0.2108 - accuracy: 0.9176 - val_loss: 0.6909 - val_accuracy: 0.8300\n",
            "Epoch 40/50\n",
            "40/40 [==============================] - 1s 27ms/step - loss: 0.1996 - accuracy: 0.9148 - val_loss: 0.7708 - val_accuracy: 0.8100\n",
            "Epoch 41/50\n",
            "40/40 [==============================] - 1s 27ms/step - loss: 0.1985 - accuracy: 0.9156 - val_loss: 0.7528 - val_accuracy: 0.8220\n",
            "Epoch 42/50\n",
            "40/40 [==============================] - 1s 27ms/step - loss: 0.2072 - accuracy: 0.9132 - val_loss: 0.6639 - val_accuracy: 0.8220\n",
            "Epoch 43/50\n",
            "40/40 [==============================] - 1s 27ms/step - loss: 0.2027 - accuracy: 0.9176 - val_loss: 0.9647 - val_accuracy: 0.8160\n",
            "Epoch 44/50\n",
            "40/40 [==============================] - 1s 27ms/step - loss: 0.1930 - accuracy: 0.9220 - val_loss: 0.7453 - val_accuracy: 0.8140\n",
            "Epoch 45/50\n",
            "40/40 [==============================] - 1s 27ms/step - loss: 0.1983 - accuracy: 0.9172 - val_loss: 0.7293 - val_accuracy: 0.8220\n",
            "Epoch 46/50\n",
            "40/40 [==============================] - 1s 27ms/step - loss: 0.1874 - accuracy: 0.9212 - val_loss: 0.8837 - val_accuracy: 0.8180\n",
            "Epoch 47/50\n",
            "40/40 [==============================] - 1s 27ms/step - loss: 0.2063 - accuracy: 0.9092 - val_loss: 0.8678 - val_accuracy: 0.8140\n",
            "Epoch 48/50\n",
            "40/40 [==============================] - 1s 27ms/step - loss: 0.1917 - accuracy: 0.9192 - val_loss: 0.8411 - val_accuracy: 0.8240\n",
            "Epoch 49/50\n",
            "40/40 [==============================] - 1s 28ms/step - loss: 0.1961 - accuracy: 0.9200 - val_loss: 0.8419 - val_accuracy: 0.8260\n",
            "Epoch 50/50\n",
            "40/40 [==============================] - 1s 27ms/step - loss: 0.2123 - accuracy: 0.9144 - val_loss: 0.7693 - val_accuracy: 0.8180\n"
          ],
          "name": "stdout"
        },
        {
          "output_type": "execute_result",
          "data": {
            "text/plain": [
              "<tensorflow.python.keras.callbacks.History at 0x7ff0569204e0>"
            ]
          },
          "metadata": {
            "tags": []
          },
          "execution_count": 0
        }
      ]
    },
    {
      "cell_type": "code",
      "metadata": {
        "id": "fK8DNU6zdwGq"
      },
      "source": [
        ""
      ],
      "execution_count": null,
      "outputs": []
    }
  ]
}