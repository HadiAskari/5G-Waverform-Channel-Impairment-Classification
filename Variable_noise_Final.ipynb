{
  "nbformat": 4,
  "nbformat_minor": 0,
  "metadata": {
    "accelerator": "GPU",
    "colab": {
      "name": "Variable_noise_Final.ipynb",
      "provenance": [],
      "toc_visible": true,
      "include_colab_link": true
    },
    "kernelspec": {
      "display_name": "Python 3",
      "name": "python3"
    },
    "language_info": {
      "name": "python"
    }
  },
  "cells": [
    {
      "cell_type": "markdown",
      "metadata": {
        "id": "view-in-github",
        "colab_type": "text"
      },
      "source": [
        "<a href=\"https://colab.research.google.com/github/HadiAskari/5G-Waverform-Channel-Impairment-Classification/blob/main/Variable_noise_Final.ipynb\" target=\"_parent\"><img src=\"https://colab.research.google.com/assets/colab-badge.svg\" alt=\"Open In Colab\"/></a>"
      ]
    },
    {
      "cell_type": "markdown",
      "metadata": {
        "id": "EkfG3soro1hi"
      },
      "source": [
        "# **LIBRARIES**"
      ]
    },
    {
      "cell_type": "code",
      "metadata": {
        "id": "tVf1HWM49bJG"
      },
      "source": [
        "gnv"
      ],
      "execution_count": null,
      "outputs": []
    },
    {
      "cell_type": "code",
      "metadata": {
        "colab": {
          "base_uri": "https://localhost:8080/"
        },
        "id": "VOmh3W9t9i4y",
        "outputId": "4be43254-65f2-4801-e649-1593a3c872fe"
      },
      "source": [
        "from google.colab import drive\n",
        "drive.mount('/content/drive')"
      ],
      "execution_count": null,
      "outputs": [
        {
          "output_type": "stream",
          "text": [
            "Mounted at /content/drive\n"
          ],
          "name": "stdout"
        }
      ]
    },
    {
      "cell_type": "markdown",
      "metadata": {
        "id": "jbYcyoCOpAAf"
      },
      "source": [
        "# **DATA LOADING**"
      ]
    },
    {
      "cell_type": "code",
      "metadata": {
        "id": "eciqGyEp9i1g"
      },
      "source": [
        "import glob\n",
        "directory=[]\n",
        "for name in glob.glob('/content/drive/MyDrive/My Last Hope Data/Variable_noise/0-5/*'): \n",
        "    directory.append(name) \n",
        "for name in glob.glob('/content/drive/MyDrive/My Last Hope Data/Variable_noise/5-10/*'): \n",
        "    directory.append(name) \n",
        "for name in glob.glob('/content/drive/MyDrive/My Last Hope Data/Variable_noise/10-15/*'): \n",
        "    directory.append(name) \n",
        "for name in glob.glob('/content/drive/MyDrive/My Last Hope Data/Variable_noise/15-20/*'): \n",
        "    directory.append(name) \n",
        "for name in glob.glob('/content/drive/MyDrive/My Last Hope Data/Variable_noise/20-25/*'): \n",
        "    directory.append(name) \n",
        "for name in glob.glob('/content/drive/MyDrive/My Last Hope Data/Variable_noise/25-30/*'): \n",
        "    directory.append(name) \n"
      ],
      "execution_count": null,
      "outputs": []
    },
    {
      "cell_type": "code",
      "metadata": {
        "colab": {
          "base_uri": "https://localhost:8080/"
        },
        "id": "PQEefAuv9izC",
        "outputId": "8eb5b099-ece0-41af-c482-663a64aca768"
      },
      "source": [
        "len(directory)"
      ],
      "execution_count": null,
      "outputs": [
        {
          "output_type": "execute_result",
          "data": {
            "text/plain": [
              "30"
            ]
          },
          "metadata": {
            "tags": []
          },
          "execution_count": 5
        }
      ]
    },
    {
      "cell_type": "code",
      "metadata": {
        "id": "vXQKLQHo9ixK"
      },
      "source": [
        "master_data=[]\n",
        "for i in range(len(directory)):\n",
        "  targets=directory[i] \n",
        "  target_pss=np.loadtxt(targets, delimiter=\",\")\n",
        "  target_pss=transpose(target_pss)\n",
        "  target_pss=np.asarray(target_pss)\n",
        "  master_data.append(target_pss)\n"
      ],
      "execution_count": null,
      "outputs": []
    },
    {
      "cell_type": "code",
      "metadata": {
        "colab": {
          "base_uri": "https://localhost:8080/"
        },
        "id": "tT_tHOp99iuC",
        "outputId": "895f017a-bfa9-4e8f-e162-2028afaab22b"
      },
      "source": [
        "x=master_data[15]\n",
        "x.shape"
      ],
      "execution_count": null,
      "outputs": [
        {
          "output_type": "execute_result",
          "data": {
            "text/plain": [
              "(2, 54800)"
            ]
          },
          "metadata": {
            "tags": []
          },
          "execution_count": 7
        }
      ]
    },
    {
      "cell_type": "code",
      "metadata": {
        "colab": {
          "base_uri": "https://localhost:8080/",
          "height": 299
        },
        "id": "mg8QAoxQ9irW",
        "outputId": "3812d276-28c0-4de8-e506-1aa68792db2b"
      },
      "source": [
        "plt.plot(x.transpose()[:100, :])"
      ],
      "execution_count": null,
      "outputs": [
        {
          "output_type": "execute_result",
          "data": {
            "text/plain": [
              "[<matplotlib.lines.Line2D at 0x7f91ad8ee9d0>,\n",
              " <matplotlib.lines.Line2D at 0x7f91ad8eebd0>]"
            ]
          },
          "metadata": {
            "tags": []
          },
          "execution_count": 9
        },
        {
          "output_type": "display_data",
          "data": {
            "image/png": "[encoded data removed]",
            "text/plain": [
              "<Figure size 432x288 with 1 Axes>"
            ]
          },
          "metadata": {
            "tags": []
          }
        }
      ]
    },
    {
      "cell_type": "code",
      "metadata": {
        "colab": {
          "base_uri": "https://localhost:8080/"
        },
        "id": "U_YHdcB99ior",
        "outputId": "93753ecb-a012-4ded-ecf6-d3a3121c0534"
      },
      "source": [
        "master_data_2=[]\n",
        "master_labels=np.zeros(shape=(3000,6))\n",
        "master1=np.zeros(shape=(3000,2,548))\n",
        "list_label=[\"0-5\",\"6-10\",\"11-15\",\"16-20\",\"21-25\",\"26-30\"]\n",
        "print(\"Labels: \",list_label)"
      ],
      "execution_count": null,
      "outputs": [
        {
          "output_type": "stream",
          "text": [
            "Labels:  ['0-5', '6-10', '11-15', '16-20', '21-25', '26-30']\n"
          ],
          "name": "stdout"
        }
      ]
    },
    {
      "cell_type": "code",
      "metadata": {
        "id": "5y9aRNXh9idQ"
      },
      "source": [
        "for j in range(30):\n",
        "  for i in range(100):\n",
        "    s=(100*j)+i\n",
        "    master1[s,:,:]=master_data[j][:,(i*548):(548+(i*548))]"
      ],
      "execution_count": null,
      "outputs": []
    },
    {
      "cell_type": "code",
      "metadata": {
        "colab": {
          "base_uri": "https://localhost:8080/"
        },
        "id": "8OqawfDG968d",
        "outputId": "3aaf171c-d4c0-4646-f5a7-4c4f92d72d4b"
      },
      "source": [
        "final_data=master1\n",
        "final_data.shape"
      ],
      "execution_count": null,
      "outputs": [
        {
          "output_type": "execute_result",
          "data": {
            "text/plain": [
              "(3000, 2, 548)"
            ]
          },
          "metadata": {
            "tags": []
          },
          "execution_count": 15
        }
      ]
    },
    {
      "cell_type": "code",
      "metadata": {
        "colab": {
          "base_uri": "https://localhost:8080/"
        },
        "id": "JCnTfJfH9_rP",
        "outputId": "38101b24-80d0-4386-c83e-a336196f41c3"
      },
      "source": [
        "if (final_data[2999,0,:] == final_data[2998,1,:]).all():\n",
        "  print('haha')\n",
        "else:\n",
        "  print(\"no haha\")"
      ],
      "execution_count": null,
      "outputs": [
        {
          "output_type": "stream",
          "text": [
            "no haha\n"
          ],
          "name": "stdout"
        }
      ]
    },
    {
      "cell_type": "code",
      "metadata": {
        "colab": {
          "base_uri": "https://localhost:8080/"
        },
        "id": "kIgKdsxn-D1Q",
        "outputId": "9f32df26-21e7-4d71-8f9d-2ebec607b247"
      },
      "source": [
        "for i in range(500):\n",
        "  master_labels[i,0]=1\n",
        "  master_labels[i+500,1]=1\n",
        "  master_labels[i+1000,2]=1\n",
        "  master_labels[i+1500,3]=1\n",
        "  master_labels[i+2000,4]=1\n",
        "  master_labels[i+2500,5]=1\n",
        "\n",
        "master_labels.shape"
      ],
      "execution_count": null,
      "outputs": [
        {
          "output_type": "execute_result",
          "data": {
            "text/plain": [
              "(3000, 6)"
            ]
          },
          "metadata": {
            "tags": []
          },
          "execution_count": 17
        }
      ]
    },
    {
      "cell_type": "code",
      "metadata": {
        "colab": {
          "base_uri": "https://localhost:8080/"
        },
        "id": "ZxtaAyMu-JGU",
        "outputId": "f615d2fd-ff22-4179-a6da-f5ef5c3202fa"
      },
      "source": [
        "master_labels"
      ],
      "execution_count": null,
      "outputs": [
        {
          "output_type": "execute_result",
          "data": {
            "text/plain": [
              "array([[1., 0., 0., 0., 0., 0.],\n",
              "       [1., 0., 0., 0., 0., 0.],\n",
              "       [1., 0., 0., 0., 0., 0.],\n",
              "       ...,\n",
              "       [0., 0., 0., 0., 0., 1.],\n",
              "       [0., 0., 0., 0., 0., 1.],\n",
              "       [0., 0., 0., 0., 0., 1.]])"
            ]
          },
          "metadata": {
            "tags": []
          },
          "execution_count": 18
        }
      ]
    },
    {
      "cell_type": "code",
      "metadata": {
        "id": "Om61J62n-JDQ"
      },
      "source": [
        "a=final_data\n",
        "b=master_labels"
      ],
      "execution_count": null,
      "outputs": []
    },
    {
      "cell_type": "code",
      "metadata": {
        "id": "BSxWoAmN-JAV"
      },
      "source": [
        "from mlxtend.preprocessing import shuffle_arrays_unison\n",
        "X,Y=shuffle_arrays_unison(arrays=[a, b], random_seed=3)"
      ],
      "execution_count": null,
      "outputs": []
    },
    {
      "cell_type": "code",
      "metadata": {
        "id": "k-ZOFZAB-I9s"
      },
      "source": [
        "X_train=X[0:2500,:,:]\n",
        "X_test=X[2500:,:,:]\n",
        "Y_train=Y[0:2500,:]\n",
        "Y_test=Y[2500:,:]"
      ],
      "execution_count": null,
      "outputs": []
    },
    {
      "cell_type": "code",
      "metadata": {
        "colab": {
          "base_uri": "https://localhost:8080/"
        },
        "id": "z77YaMJq-Rx-",
        "outputId": "7412a2f4-6783-4121-b630-bff9d0e154be"
      },
      "source": [
        "print(\"Sample no: 5\")\n",
        "print(\"Data:\\n\",X[5])\n",
        "print(\"Label: \",Y[5])"
      ],
      "execution_count": null,
      "outputs": [
        {
          "output_type": "stream",
          "text": [
            "Sample no: 5\n",
            "Data:\n",
            " [[ 0.35227214 -0.46063048 -0.48557888 ...  0.40605917 -0.74855307\n",
            "  -0.20563198]\n",
            " [-0.29481857  1.36053869 -1.28138544 ... -1.25323492 -0.21478347\n",
            "  -0.04694557]]\n",
            "Label:  [1. 0. 0. 0. 0. 0.]\n"
          ],
          "name": "stdout"
        }
      ]
    },
    {
      "cell_type": "code",
      "metadata": {
        "colab": {
          "base_uri": "https://localhost:8080/"
        },
        "id": "tPANts7Y-I62",
        "outputId": "7bf68806-a887-48aa-fb02-cd48f37b2e30"
      },
      "source": [
        "in_shape = final_data[0].shape\n",
        "out_shape = tuple([1]) + in_shape\n",
        "print(in_shape)\n",
        "print(out_shape)"
      ],
      "execution_count": null,
      "outputs": [
        {
          "output_type": "stream",
          "text": [
            "(2, 548)\n",
            "(1, 2, 548)\n"
          ],
          "name": "stdout"
        }
      ]
    },
    {
      "cell_type": "markdown",
      "metadata": {
        "id": "vS89fF3squEI"
      },
      "source": [
        "# **CONVOLUTION NEURAL NETWORK**"
      ]
    },
    {
      "cell_type": "code",
      "metadata": {
        "id": "XwVK-pWm-IKw"
      },
      "source": [
        "dr = 0.5\n",
        "model = Sequential()\n",
        "model.add(Reshape(out_shape, input_shape = in_shape))\n",
        "model.add(ZeroPadding2D((0, 2), data_format = 'channels_first'))\n",
        "model.add(Conv2D(256, (1, 3), padding = 'valid', activation = \"relu\", name=\"conv1\", kernel_initializer='glorot_uniform', data_format=\"channels_first\"))\n",
        "model.add(Dropout(dr))\n",
        "model.add(ZeroPadding2D((0,2), data_format = 'channels_first'))\n",
        "model.add(Conv2D(80, (2, 3), activation=\"relu\", name=\"conv3\", padding=\"valid\", kernel_initializer=\"glorot_uniform\", data_format=\"channels_first\"))\n",
        "model.add(Dropout(dr))\n",
        "model.add(Flatten())   \n",
        "model.add(Dense(256, activation=\"relu\", name=\"dense1\", kernel_initializer=\"he_normal\",))\n",
        "model.add(Dropout(dr))\n",
        "model.add(Dense(6, name=\"dense3\", kernel_initializer=\"he_normal\", activation = 'softmax'))\n",
        "model.add(Reshape([len(list_label)]))"
      ],
      "execution_count": null,
      "outputs": []
    },
    {
      "cell_type": "code",
      "metadata": {
        "colab": {
          "base_uri": "https://localhost:8080/"
        },
        "id": "jcTJrjBh_BqV",
        "outputId": "8fa20de3-3d7a-4244-ba9b-3ee7330de51c"
      },
      "source": [
        "model.compile(loss='categorical_crossentropy', optimizer='adam', metrics = ['accuracy'])\n",
        "model.summary()"
      ],
      "execution_count": null,
      "outputs": [
        {
          "output_type": "stream",
          "text": [
            "Model: \"sequential\"\n",
            "_________________________________________________________________\n",
            "Layer (type)                 Output Shape              Param #   \n",
            "=================================================================\n",
            "reshape (Reshape)            (None, 1, 2, 548)         0         \n",
            "_________________________________________________________________\n",
            "zero_padding2d (ZeroPadding2 (None, 1, 2, 552)         0         \n",
            "_________________________________________________________________\n",
            "conv1 (Conv2D)               (None, 256, 2, 550)       1024      \n",
            "_________________________________________________________________\n",
            "dropout (Dropout)            (None, 256, 2, 550)       0         \n",
            "_________________________________________________________________\n",
            "zero_padding2d_1 (ZeroPaddin (None, 256, 2, 554)       0         \n",
            "_________________________________________________________________\n",
            "conv3 (Conv2D)               (None, 80, 1, 552)        122960    \n",
            "_________________________________________________________________\n",
            "dropout_1 (Dropout)          (None, 80, 1, 552)        0         \n",
            "_________________________________________________________________\n",
            "flatten (Flatten)            (None, 44160)             0         \n",
            "_________________________________________________________________\n",
            "dense1 (Dense)               (None, 256)               11305216  \n",
            "_________________________________________________________________\n",
            "dropout_2 (Dropout)          (None, 256)               0         \n",
            "_________________________________________________________________\n",
            "dense3 (Dense)               (None, 6)                 1542      \n",
            "_________________________________________________________________\n",
            "reshape_1 (Reshape)          (None, 6)                 0         \n",
            "=================================================================\n",
            "Total params: 11,430,742\n",
            "Trainable params: 11,430,742\n",
            "Non-trainable params: 0\n",
            "_________________________________________________________________\n"
          ],
          "name": "stdout"
        }
      ]
    },
    {
      "cell_type": "code",
      "metadata": {
        "id": "Efv5MxaR_F_c"
      },
      "source": [
        "%load_ext tensorboard\n",
        "import datetime\n",
        "log_dir = \"logs/fit/\" + datetime.datetime.now().strftime(\"%Y%m%d-%H%M%S\")\n",
        "tensorboard_callback = tf.keras.callbacks.TensorBoard(log_dir=log_dir, histogram_freq=1)"
      ],
      "execution_count": null,
      "outputs": []
    },
    {
      "cell_type": "code",
      "metadata": {
        "colab": {
          "base_uri": "https://localhost:8080/"
        },
        "id": "xfCuAYc8_Lhi",
        "outputId": "74b5d92c-4f21-4652-8e79-b4776dee4e51"
      },
      "source": [
        "model.fit(X_train, Y_train, epochs = 100, batch_size = 64, validation_data=(X_test,Y_test), callbacks=[tensorboard_callback])"
      ],
      "execution_count": null,
      "outputs": [
        {
          "output_type": "stream",
          "text": [
            "Epoch 1/100\n",
            "40/40 [==============================] - 46s 68ms/step - loss: 1.4753 - accuracy: 0.2987 - val_loss: 0.7319 - val_accuracy: 0.6080\n",
            "Epoch 2/100\n",
            "40/40 [==============================] - 1s 30ms/step - loss: 0.7032 - accuracy: 0.6792 - val_loss: 0.5559 - val_accuracy: 0.6940\n",
            "Epoch 3/100\n",
            "40/40 [==============================] - 1s 30ms/step - loss: 0.4420 - accuracy: 0.8066 - val_loss: 0.2786 - val_accuracy: 0.9140\n",
            "Epoch 4/100\n",
            "40/40 [==============================] - 1s 32ms/step - loss: 0.3195 - accuracy: 0.8856 - val_loss: 0.4444 - val_accuracy: 0.8520\n",
            "Epoch 5/100\n",
            "40/40 [==============================] - 1s 30ms/step - loss: 0.3009 - accuracy: 0.8804 - val_loss: 0.1482 - val_accuracy: 0.9540\n",
            "Epoch 6/100\n",
            "40/40 [==============================] - 1s 30ms/step - loss: 0.2045 - accuracy: 0.9239 - val_loss: 0.3492 - val_accuracy: 0.8280\n",
            "Epoch 7/100\n",
            "40/40 [==============================] - 1s 30ms/step - loss: 0.2367 - accuracy: 0.9006 - val_loss: 0.1316 - val_accuracy: 0.9500\n",
            "Epoch 8/100\n",
            "40/40 [==============================] - 1s 31ms/step - loss: 0.1999 - accuracy: 0.9187 - val_loss: 0.1670 - val_accuracy: 0.9220\n",
            "Epoch 9/100\n",
            "40/40 [==============================] - 1s 32ms/step - loss: 0.1218 - accuracy: 0.9530 - val_loss: 0.3515 - val_accuracy: 0.8620\n",
            "Epoch 10/100\n",
            "40/40 [==============================] - 1s 30ms/step - loss: 0.1700 - accuracy: 0.9341 - val_loss: 0.1532 - val_accuracy: 0.9260\n",
            "Epoch 11/100\n",
            "40/40 [==============================] - 1s 32ms/step - loss: 0.0900 - accuracy: 0.9678 - val_loss: 0.2453 - val_accuracy: 0.8880\n",
            "Epoch 12/100\n",
            "40/40 [==============================] - 1s 30ms/step - loss: 0.1647 - accuracy: 0.9351 - val_loss: 0.4135 - val_accuracy: 0.9040\n",
            "Epoch 13/100\n",
            "40/40 [==============================] - 1s 30ms/step - loss: 0.1070 - accuracy: 0.9580 - val_loss: 0.1855 - val_accuracy: 0.9280\n",
            "Epoch 14/100\n",
            "40/40 [==============================] - 1s 30ms/step - loss: 0.0818 - accuracy: 0.9733 - val_loss: 0.1276 - val_accuracy: 0.9480\n",
            "Epoch 15/100\n",
            "40/40 [==============================] - 1s 30ms/step - loss: 0.0832 - accuracy: 0.9678 - val_loss: 0.4542 - val_accuracy: 0.8360\n",
            "Epoch 16/100\n",
            "40/40 [==============================] - 1s 30ms/step - loss: 0.1281 - accuracy: 0.9516 - val_loss: 0.5927 - val_accuracy: 0.8580\n",
            "Epoch 17/100\n",
            "40/40 [==============================] - 1s 30ms/step - loss: 0.1236 - accuracy: 0.9638 - val_loss: 0.1264 - val_accuracy: 0.9500\n",
            "Epoch 18/100\n",
            "40/40 [==============================] - 1s 32ms/step - loss: 0.0399 - accuracy: 0.9904 - val_loss: 0.2084 - val_accuracy: 0.9140\n",
            "Epoch 19/100\n",
            "40/40 [==============================] - 1s 32ms/step - loss: 0.1184 - accuracy: 0.9577 - val_loss: 0.1318 - val_accuracy: 0.9420\n",
            "Epoch 20/100\n",
            "40/40 [==============================] - 1s 32ms/step - loss: 0.0501 - accuracy: 0.9822 - val_loss: 0.1180 - val_accuracy: 0.9540\n",
            "Epoch 21/100\n",
            "40/40 [==============================] - 1s 30ms/step - loss: 0.0322 - accuracy: 0.9913 - val_loss: 0.1206 - val_accuracy: 0.9440\n",
            "Epoch 22/100\n",
            "40/40 [==============================] - 1s 30ms/step - loss: 0.0251 - accuracy: 0.9926 - val_loss: 0.4124 - val_accuracy: 0.8720\n",
            "Epoch 23/100\n",
            "40/40 [==============================] - 1s 30ms/step - loss: 0.0725 - accuracy: 0.9668 - val_loss: 0.1884 - val_accuracy: 0.9240\n",
            "Epoch 24/100\n",
            "40/40 [==============================] - 1s 32ms/step - loss: 0.0366 - accuracy: 0.9889 - val_loss: 0.2786 - val_accuracy: 0.9060\n",
            "Epoch 25/100\n",
            "40/40 [==============================] - 1s 30ms/step - loss: 0.2215 - accuracy: 0.9350 - val_loss: 0.1674 - val_accuracy: 0.9400\n",
            "Epoch 26/100\n",
            "40/40 [==============================] - 1s 30ms/step - loss: 0.0382 - accuracy: 0.9874 - val_loss: 0.1402 - val_accuracy: 0.9580\n",
            "Epoch 27/100\n",
            "40/40 [==============================] - 1s 30ms/step - loss: 0.0282 - accuracy: 0.9933 - val_loss: 0.1498 - val_accuracy: 0.9480\n",
            "Epoch 28/100\n",
            "40/40 [==============================] - 1s 30ms/step - loss: 0.0356 - accuracy: 0.9880 - val_loss: 0.1932 - val_accuracy: 0.9220\n",
            "Epoch 29/100\n",
            "40/40 [==============================] - 1s 30ms/step - loss: 0.0522 - accuracy: 0.9828 - val_loss: 0.2050 - val_accuracy: 0.9120\n",
            "Epoch 30/100\n",
            "40/40 [==============================] - 1s 30ms/step - loss: 0.0444 - accuracy: 0.9888 - val_loss: 0.1857 - val_accuracy: 0.9180\n",
            "Epoch 31/100\n",
            "40/40 [==============================] - 1s 30ms/step - loss: 0.0289 - accuracy: 0.9913 - val_loss: 0.1921 - val_accuracy: 0.9320\n",
            "Epoch 32/100\n",
            "40/40 [==============================] - 1s 30ms/step - loss: 0.0139 - accuracy: 0.9968 - val_loss: 0.1620 - val_accuracy: 0.9380\n",
            "Epoch 33/100\n",
            "40/40 [==============================] - 1s 30ms/step - loss: 0.0210 - accuracy: 0.9944 - val_loss: 0.1368 - val_accuracy: 0.9460\n",
            "Epoch 34/100\n",
            "40/40 [==============================] - 1s 30ms/step - loss: 0.0123 - accuracy: 0.9974 - val_loss: 0.2402 - val_accuracy: 0.9220\n",
            "Epoch 35/100\n",
            "40/40 [==============================] - 1s 32ms/step - loss: 0.0196 - accuracy: 0.9910 - val_loss: 0.2842 - val_accuracy: 0.9140\n",
            "Epoch 36/100\n",
            "40/40 [==============================] - 1s 30ms/step - loss: 0.0106 - accuracy: 0.9971 - val_loss: 0.1477 - val_accuracy: 0.9540\n",
            "Epoch 37/100\n",
            "40/40 [==============================] - 1s 30ms/step - loss: 0.0111 - accuracy: 0.9976 - val_loss: 0.2548 - val_accuracy: 0.9240\n",
            "Epoch 38/100\n",
            "40/40 [==============================] - 1s 32ms/step - loss: 0.0379 - accuracy: 0.9891 - val_loss: 0.2479 - val_accuracy: 0.9140\n",
            "Epoch 39/100\n",
            "40/40 [==============================] - 1s 32ms/step - loss: 0.0220 - accuracy: 0.9930 - val_loss: 0.3427 - val_accuracy: 0.9100\n",
            "Epoch 40/100\n",
            "40/40 [==============================] - 1s 32ms/step - loss: 0.0345 - accuracy: 0.9879 - val_loss: 0.3189 - val_accuracy: 0.9240\n",
            "Epoch 41/100\n",
            "40/40 [==============================] - 1s 32ms/step - loss: 0.0215 - accuracy: 0.9940 - val_loss: 0.8350 - val_accuracy: 0.8780\n",
            "Epoch 42/100\n",
            "40/40 [==============================] - 1s 30ms/step - loss: 0.0390 - accuracy: 0.9883 - val_loss: 0.1845 - val_accuracy: 0.9240\n",
            "Epoch 43/100\n",
            "40/40 [==============================] - 1s 32ms/step - loss: 0.0117 - accuracy: 0.9954 - val_loss: 0.2158 - val_accuracy: 0.9240\n",
            "Epoch 44/100\n",
            "40/40 [==============================] - 1s 32ms/step - loss: 0.0300 - accuracy: 0.9855 - val_loss: 0.3020 - val_accuracy: 0.9100\n",
            "Epoch 45/100\n",
            "40/40 [==============================] - 1s 31ms/step - loss: 0.0530 - accuracy: 0.9861 - val_loss: 0.5271 - val_accuracy: 0.8700\n",
            "Epoch 46/100\n",
            "40/40 [==============================] - 1s 32ms/step - loss: 0.0624 - accuracy: 0.9792 - val_loss: 0.3076 - val_accuracy: 0.9220\n",
            "Epoch 47/100\n",
            "40/40 [==============================] - 1s 31ms/step - loss: 0.0476 - accuracy: 0.9753 - val_loss: 0.1813 - val_accuracy: 0.9380\n",
            "Epoch 48/100\n",
            "40/40 [==============================] - 1s 32ms/step - loss: 0.0237 - accuracy: 0.9915 - val_loss: 0.1697 - val_accuracy: 0.9520\n",
            "Epoch 49/100\n",
            "40/40 [==============================] - 1s 30ms/step - loss: 0.0136 - accuracy: 0.9982 - val_loss: 0.3107 - val_accuracy: 0.9060\n",
            "Epoch 50/100\n",
            "40/40 [==============================] - 1s 30ms/step - loss: 0.0200 - accuracy: 0.9912 - val_loss: 0.2229 - val_accuracy: 0.9140\n",
            "Epoch 51/100\n",
            "40/40 [==============================] - 1s 30ms/step - loss: 0.0148 - accuracy: 0.9961 - val_loss: 0.2324 - val_accuracy: 0.9380\n",
            "Epoch 52/100\n",
            "40/40 [==============================] - 1s 31ms/step - loss: 0.0130 - accuracy: 0.9983 - val_loss: 0.4931 - val_accuracy: 0.9040\n",
            "Epoch 53/100\n",
            "40/40 [==============================] - 1s 30ms/step - loss: 0.0223 - accuracy: 0.9942 - val_loss: 0.6331 - val_accuracy: 0.8620\n",
            "Epoch 54/100\n",
            "40/40 [==============================] - 1s 31ms/step - loss: 0.0425 - accuracy: 0.9783 - val_loss: 0.1902 - val_accuracy: 0.9400\n",
            "Epoch 55/100\n",
            "40/40 [==============================] - 1s 31ms/step - loss: 0.0098 - accuracy: 0.9972 - val_loss: 0.3396 - val_accuracy: 0.9060\n",
            "Epoch 56/100\n",
            "40/40 [==============================] - 1s 30ms/step - loss: 0.0074 - accuracy: 0.9991 - val_loss: 0.1958 - val_accuracy: 0.9360\n",
            "Epoch 57/100\n",
            "40/40 [==============================] - 1s 30ms/step - loss: 0.0240 - accuracy: 0.9922 - val_loss: 0.2664 - val_accuracy: 0.9240\n",
            "Epoch 58/100\n",
            "40/40 [==============================] - 1s 31ms/step - loss: 0.1631 - accuracy: 0.9399 - val_loss: 0.2907 - val_accuracy: 0.9260\n",
            "Epoch 59/100\n",
            "40/40 [==============================] - 1s 31ms/step - loss: 0.0215 - accuracy: 0.9945 - val_loss: 0.2633 - val_accuracy: 0.9280\n",
            "Epoch 60/100\n",
            "40/40 [==============================] - 1s 31ms/step - loss: 0.0135 - accuracy: 0.9969 - val_loss: 0.2745 - val_accuracy: 0.9340\n",
            "Epoch 61/100\n",
            "40/40 [==============================] - 1s 31ms/step - loss: 0.0159 - accuracy: 0.9969 - val_loss: 0.2492 - val_accuracy: 0.9340\n",
            "Epoch 62/100\n",
            "40/40 [==============================] - 1s 30ms/step - loss: 0.0069 - accuracy: 0.9986 - val_loss: 0.4039 - val_accuracy: 0.9240\n",
            "Epoch 63/100\n",
            "40/40 [==============================] - 1s 32ms/step - loss: 0.0055 - accuracy: 0.9993 - val_loss: 0.2860 - val_accuracy: 0.9300\n",
            "Epoch 64/100\n",
            "40/40 [==============================] - 1s 30ms/step - loss: 0.0187 - accuracy: 0.9955 - val_loss: 0.3187 - val_accuracy: 0.9080\n",
            "Epoch 65/100\n",
            "40/40 [==============================] - 1s 32ms/step - loss: 0.0123 - accuracy: 0.9971 - val_loss: 0.2161 - val_accuracy: 0.9200\n",
            "Epoch 66/100\n",
            "40/40 [==============================] - 1s 32ms/step - loss: 0.0164 - accuracy: 0.9950 - val_loss: 0.3199 - val_accuracy: 0.9340\n",
            "Epoch 67/100\n",
            "40/40 [==============================] - 1s 31ms/step - loss: 0.0195 - accuracy: 0.9960 - val_loss: 0.4266 - val_accuracy: 0.9180\n",
            "Epoch 68/100\n",
            "40/40 [==============================] - 1s 31ms/step - loss: 0.0124 - accuracy: 0.9958 - val_loss: 0.2779 - val_accuracy: 0.9200\n",
            "Epoch 69/100\n",
            "40/40 [==============================] - 1s 32ms/step - loss: 0.0097 - accuracy: 0.9957 - val_loss: 0.2465 - val_accuracy: 0.9300\n",
            "Epoch 70/100\n",
            "40/40 [==============================] - 1s 30ms/step - loss: 0.0100 - accuracy: 0.9975 - val_loss: 0.2377 - val_accuracy: 0.9400\n",
            "Epoch 71/100\n",
            "40/40 [==============================] - 1s 30ms/step - loss: 0.0049 - accuracy: 0.9998 - val_loss: 0.2509 - val_accuracy: 0.9320\n",
            "Epoch 72/100\n",
            "40/40 [==============================] - 1s 30ms/step - loss: 0.0081 - accuracy: 0.9978 - val_loss: 0.2278 - val_accuracy: 0.9360\n",
            "Epoch 73/100\n",
            "40/40 [==============================] - 1s 31ms/step - loss: 0.0049 - accuracy: 0.9994 - val_loss: 0.2870 - val_accuracy: 0.9240\n",
            "Epoch 74/100\n",
            "40/40 [==============================] - 1s 31ms/step - loss: 0.0049 - accuracy: 0.9994 - val_loss: 0.6072 - val_accuracy: 0.9000\n",
            "Epoch 75/100\n",
            "40/40 [==============================] - 1s 32ms/step - loss: 0.0251 - accuracy: 0.9943 - val_loss: 0.8693 - val_accuracy: 0.8680\n",
            "Epoch 76/100\n",
            "40/40 [==============================] - 1s 30ms/step - loss: 0.0838 - accuracy: 0.9776 - val_loss: 0.4630 - val_accuracy: 0.8760\n",
            "Epoch 77/100\n",
            "40/40 [==============================] - 1s 31ms/step - loss: 0.0473 - accuracy: 0.9792 - val_loss: 0.2721 - val_accuracy: 0.9180\n",
            "Epoch 78/100\n",
            "40/40 [==============================] - 1s 31ms/step - loss: 0.0193 - accuracy: 0.9941 - val_loss: 0.7831 - val_accuracy: 0.8640\n",
            "Epoch 79/100\n",
            "40/40 [==============================] - 1s 30ms/step - loss: 0.0436 - accuracy: 0.9862 - val_loss: 0.4739 - val_accuracy: 0.9200\n",
            "Epoch 80/100\n",
            "40/40 [==============================] - 1s 30ms/step - loss: 0.0189 - accuracy: 0.9954 - val_loss: 0.4370 - val_accuracy: 0.8920\n",
            "Epoch 81/100\n",
            "40/40 [==============================] - 1s 32ms/step - loss: 0.0149 - accuracy: 0.9971 - val_loss: 0.4368 - val_accuracy: 0.9200\n",
            "Epoch 82/100\n",
            "40/40 [==============================] - 1s 30ms/step - loss: 0.0295 - accuracy: 0.9940 - val_loss: 1.0008 - val_accuracy: 0.8380\n",
            "Epoch 83/100\n",
            "40/40 [==============================] - 1s 31ms/step - loss: 0.2388 - accuracy: 0.9601 - val_loss: 0.2921 - val_accuracy: 0.9120\n",
            "Epoch 84/100\n",
            "40/40 [==============================] - 1s 31ms/step - loss: 0.0202 - accuracy: 0.9954 - val_loss: 0.4578 - val_accuracy: 0.9100\n",
            "Epoch 85/100\n",
            "40/40 [==============================] - 1s 31ms/step - loss: 0.0493 - accuracy: 0.9882 - val_loss: 0.3607 - val_accuracy: 0.8980\n",
            "Epoch 86/100\n",
            "40/40 [==============================] - 1s 31ms/step - loss: 0.0275 - accuracy: 0.9926 - val_loss: 0.2247 - val_accuracy: 0.9240\n",
            "Epoch 87/100\n",
            "40/40 [==============================] - 1s 33ms/step - loss: 0.0201 - accuracy: 0.9936 - val_loss: 0.2945 - val_accuracy: 0.9040\n",
            "Epoch 88/100\n",
            "40/40 [==============================] - 1s 32ms/step - loss: 0.0076 - accuracy: 0.9989 - val_loss: 0.3169 - val_accuracy: 0.9080\n",
            "Epoch 89/100\n",
            "40/40 [==============================] - 1s 31ms/step - loss: 0.0071 - accuracy: 0.9982 - val_loss: 0.2522 - val_accuracy: 0.9280\n",
            "Epoch 90/100\n",
            "40/40 [==============================] - 1s 31ms/step - loss: 0.0072 - accuracy: 0.9990 - val_loss: 1.0481 - val_accuracy: 0.8180\n",
            "Epoch 91/100\n",
            "40/40 [==============================] - 1s 32ms/step - loss: 0.4099 - accuracy: 0.8927 - val_loss: 0.2235 - val_accuracy: 0.9260\n",
            "Epoch 92/100\n",
            "40/40 [==============================] - 1s 30ms/step - loss: 0.0417 - accuracy: 0.9884 - val_loss: 0.3378 - val_accuracy: 0.9040\n",
            "Epoch 93/100\n",
            "40/40 [==============================] - 1s 31ms/step - loss: 0.0251 - accuracy: 0.9936 - val_loss: 0.3397 - val_accuracy: 0.9200\n",
            "Epoch 94/100\n",
            "40/40 [==============================] - 1s 31ms/step - loss: 0.0208 - accuracy: 0.9951 - val_loss: 0.3058 - val_accuracy: 0.9040\n",
            "Epoch 95/100\n",
            "40/40 [==============================] - 1s 30ms/step - loss: 0.0197 - accuracy: 0.9934 - val_loss: 0.2740 - val_accuracy: 0.9380\n",
            "Epoch 96/100\n",
            "40/40 [==============================] - 1s 30ms/step - loss: 0.0187 - accuracy: 0.9902 - val_loss: 0.2496 - val_accuracy: 0.9340\n",
            "Epoch 97/100\n",
            "40/40 [==============================] - 1s 30ms/step - loss: 0.0095 - accuracy: 0.9973 - val_loss: 0.3745 - val_accuracy: 0.9180\n",
            "Epoch 98/100\n",
            "40/40 [==============================] - 1s 30ms/step - loss: 0.0095 - accuracy: 0.9972 - val_loss: 0.3822 - val_accuracy: 0.9260\n",
            "Epoch 99/100\n",
            "40/40 [==============================] - 1s 31ms/step - loss: 0.0319 - accuracy: 0.9932 - val_loss: 0.5126 - val_accuracy: 0.9180\n",
            "Epoch 100/100\n",
            "40/40 [==============================] - 1s 31ms/step - loss: 0.0224 - accuracy: 0.9958 - val_loss: 0.5156 - val_accuracy: 0.9240\n"
          ],
          "name": "stdout"
        },
        {
          "output_type": "execute_result",
          "data": {
            "text/plain": [
              "<keras.callbacks.History at 0x7f91a00848d0>"
            ]
          },
          "metadata": {
            "tags": []
          },
          "execution_count": 30
        }
      ]
    },
    {
      "cell_type": "code",
      "metadata": {
        "colab": {
          "base_uri": "https://localhost:8080/",
          "height": 248
        },
        "id": "nQEPgesqIQxA",
        "outputId": "fe667635-4096-4269-ce25-dafe6d6d074b"
      },
      "source": [
        "model_2 = Sequential()\n",
        "model_2.add(Reshape(out_shape, input_shape = in_shape))\n",
        "model_2.add(ZeroPadding2D((2, 2), data_format = 'channels_first'))\n",
        "model_2.add(ZeroPadding2D(padding=(1, 1)))\n",
        "model_2.add(Conv2D(128, kernel_size=(3,3), activation='relu', padding='valid', kernel_regularizer=regularizers.l2(0.01)))\n",
        "model_2.add(ZeroPadding2D(padding=(1, 1)))\n",
        "model_2.add(Conv2D(128, kernel_size=(2,2), activation='relu', strides=(1, 1), padding='valid'))\n",
        "model_2.add(ZeroPadding2D(padding=(1, 1)))\n",
        "model_2.add(Conv2D(256, kernel_size=(3,3), activation='relu', padding='valid', kernel_regularizer=regularizers.l2(0.01)))\n",
        "model_2.add(ZeroPadding2D(padding=(1, 1)))\n",
        "model_2.add(Conv2D(256, kernel_size=(2,2), activation='relu', strides=(1, 1), padding='valid'))\n",
        "model_2.add(ZeroPadding2D(padding=(1, 1)))\n",
        "model_2.add(Conv2D(64, kernel_size=(3,3), activation='relu', padding='valid', kernel_regularizer=regularizers.l2(0.02)))\n",
        "model_2.add(ZeroPadding2D(padding=(1, 1)))\n",
        "model_2.add(Conv2D(64, kernel_size=(3,3), activation='relu', padding='valid', kernel_regularizer=regularizers.l2(0.02)))\n",
        "model_2.add(ZeroPadding2D(padding=(1, 1)))\n",
        "model_2.add(Conv2D(64, kernel_size=(3,3), activation='relu', strides=(1, 1)))\n",
        "model_2.add(ZeroPadding2D(padding=(1, 1)))\n",
        "model_2.add(Conv2D(64, kernel_size=(3,3), activation='relu', strides=(1, 1)))\n",
        "model_2.add(ZeroPadding2D(padding=(1, 1)))\n",
        "model_2.add(MaxPooling2D(pool_size=(2, 2)))\n",
        "model_2.add(ZeroPadding2D(padding=(1, 1)))\n",
        "model_2.add(Conv2D(64, kernel_size=(3,3), activation='relu', padding='valid', kernel_regularizer=regularizers.l2(0.02)))\n",
        "model_2.add(ZeroPadding2D(padding=(1, 1)))\n",
        "model_2.add(Conv2D(64, kernel_size=(3,3), activation='relu', padding='valid', kernel_regularizer=regularizers.l2(0.02)))\n",
        "model_2.add(ZeroPadding2D(padding=(1, 1)))\n",
        "model_2.add(Conv2D(128, kernel_size=(3,3), activation='relu', padding='valid', kernel_regularizer=regularizers.l2(0.05)))\n",
        "model_2.add(ZeroPadding2D(padding=(1, 1)))\n",
        "model_2.add(Conv2D(128, kernel_size=(2,2), activation='relu', strides=(1, 1), padding='valid'))\n",
        "model_2.add(Flatten())  \n",
        "model_2.add(Dense(256, activation=\"relu\", name=\"dense1\", kernel_initializer=\"he_normal\",))\n",
        "model_2.add(Dropout(0.3))\n",
        "model_2.add(Dense(128, activation=\"relu\", name=\"dense2\", kernel_initializer=\"he_normal\",))\n",
        "model_2.add(Dropout(0.2))\n",
        "model_2.add(Dense(64, activation=\"relu\", name=\"dense3\", kernel_initializer=\"he_normal\",))\n",
        "model_2.add(Dropout(0.2))\n",
        "model_2.add(Dense(32, activation=\"relu\", name=\"dense4\", kernel_initializer=\"he_normal\",))\n",
        "model_2.add(Dropout(0.2))\n",
        "model_2.add(Dense(6, activation='softmax'))\n",
        "model_2.add(Reshape([len(list_label)]))"
      ],
      "execution_count": null,
      "outputs": [
        {
          "output_type": "error",
          "ename": "NameError",
          "evalue": "ignored",
          "traceback": [
            "\u001b[0;31m---------------------------------------------------------------------------\u001b[0m",
            "\u001b[0;31mNameError\u001b[0m                                 Traceback (most recent call last)",
            "\u001b[0;32m<ipython-input-1-ed19375d9bce>\u001b[0m in \u001b[0;36m<module>\u001b[0;34m()\u001b[0m\n\u001b[0;32m----> 1\u001b[0;31m \u001b[0mmodel2\u001b[0m \u001b[0;34m=\u001b[0m \u001b[0mSequential\u001b[0m\u001b[0;34m(\u001b[0m\u001b[0;34m)\u001b[0m\u001b[0;34m\u001b[0m\u001b[0;34m\u001b[0m\u001b[0m\n\u001b[0m\u001b[1;32m      2\u001b[0m \u001b[0mmodel\u001b[0m\u001b[0;34m.\u001b[0m\u001b[0madd\u001b[0m\u001b[0;34m(\u001b[0m\u001b[0mReshape\u001b[0m\u001b[0;34m(\u001b[0m\u001b[0mout_shape\u001b[0m\u001b[0;34m,\u001b[0m \u001b[0minput_shape\u001b[0m \u001b[0;34m=\u001b[0m \u001b[0min_shape\u001b[0m\u001b[0;34m)\u001b[0m\u001b[0;34m)\u001b[0m\u001b[0;34m\u001b[0m\u001b[0;34m\u001b[0m\u001b[0m\n\u001b[1;32m      3\u001b[0m \u001b[0mmodel\u001b[0m\u001b[0;34m.\u001b[0m\u001b[0madd\u001b[0m\u001b[0;34m(\u001b[0m\u001b[0mZeroPadding2D\u001b[0m\u001b[0;34m(\u001b[0m\u001b[0;34m(\u001b[0m\u001b[0;36m2\u001b[0m\u001b[0;34m,\u001b[0m \u001b[0;36m2\u001b[0m\u001b[0;34m)\u001b[0m\u001b[0;34m,\u001b[0m \u001b[0mdata_format\u001b[0m \u001b[0;34m=\u001b[0m \u001b[0;34m'channels_first'\u001b[0m\u001b[0;34m)\u001b[0m\u001b[0;34m)\u001b[0m\u001b[0;34m\u001b[0m\u001b[0;34m\u001b[0m\u001b[0m\n\u001b[1;32m      4\u001b[0m \u001b[0mmodel\u001b[0m\u001b[0;34m.\u001b[0m\u001b[0madd\u001b[0m\u001b[0;34m(\u001b[0m\u001b[0mZeroPadding2D\u001b[0m\u001b[0;34m(\u001b[0m\u001b[0mpadding\u001b[0m\u001b[0;34m=\u001b[0m\u001b[0;34m(\u001b[0m\u001b[0;36m1\u001b[0m\u001b[0;34m,\u001b[0m \u001b[0;36m1\u001b[0m\u001b[0;34m)\u001b[0m\u001b[0;34m)\u001b[0m\u001b[0;34m)\u001b[0m\u001b[0;34m\u001b[0m\u001b[0;34m\u001b[0m\u001b[0m\n\u001b[1;32m      5\u001b[0m \u001b[0mmodel\u001b[0m\u001b[0;34m.\u001b[0m\u001b[0madd\u001b[0m\u001b[0;34m(\u001b[0m\u001b[0mConv2D\u001b[0m\u001b[0;34m(\u001b[0m\u001b[0;36m128\u001b[0m\u001b[0;34m,\u001b[0m \u001b[0mkernel_size\u001b[0m\u001b[0;34m=\u001b[0m\u001b[0;34m(\u001b[0m\u001b[0;36m3\u001b[0m\u001b[0;34m,\u001b[0m\u001b[0;36m3\u001b[0m\u001b[0;34m)\u001b[0m\u001b[0;34m,\u001b[0m \u001b[0mactivation\u001b[0m\u001b[0;34m=\u001b[0m\u001b[0;34m'relu'\u001b[0m\u001b[0;34m,\u001b[0m \u001b[0mpadding\u001b[0m\u001b[0;34m=\u001b[0m\u001b[0;34m'valid'\u001b[0m\u001b[0;34m,\u001b[0m \u001b[0mkernel_regularizer\u001b[0m\u001b[0;34m=\u001b[0m\u001b[0mregularizers\u001b[0m\u001b[0;34m.\u001b[0m\u001b[0ml2\u001b[0m\u001b[0;34m(\u001b[0m\u001b[0;36m0.01\u001b[0m\u001b[0;34m)\u001b[0m\u001b[0;34m)\u001b[0m\u001b[0;34m)\u001b[0m\u001b[0;34m\u001b[0m\u001b[0;34m\u001b[0m\u001b[0m\n",
            "\u001b[0;31mNameError\u001b[0m: name 'Sequential' is not defined"
          ]
        }
      ]
    },
    {
      "cell_type": "code",
      "metadata": {
        "colab": {
          "base_uri": "https://localhost:8080/"
        },
        "id": "bxYcCyjbKn2r",
        "outputId": "62cbd16d-d132-4e4b-f39d-3f13741fbda1"
      },
      "source": [
        "model_2.compile(loss='categorical_crossentropy', optimizer='adam', metrics = ['accuracy'])\n",
        "model_2.summary()\n"
      ],
      "execution_count": null,
      "outputs": [
        {
          "output_type": "stream",
          "text": [
            "Model: \"sequential\"\n",
            "_________________________________________________________________\n",
            "Layer (type)                 Output Shape              Param #   \n",
            "=================================================================\n",
            "reshape (Reshape)            (None, 1, 2, 548)         0         \n",
            "_________________________________________________________________\n",
            "zero_padding2d (ZeroPadding2 (None, 1, 6, 552)         0         \n",
            "_________________________________________________________________\n",
            "zero_padding2d_1 (ZeroPaddin (None, 3, 8, 552)         0         \n",
            "_________________________________________________________________\n",
            "conv2d (Conv2D)              (None, 1, 6, 128)         636032    \n",
            "_________________________________________________________________\n",
            "zero_padding2d_2 (ZeroPaddin (None, 3, 8, 128)         0         \n",
            "_________________________________________________________________\n",
            "conv2d_1 (Conv2D)            (None, 2, 7, 128)         65664     \n",
            "_________________________________________________________________\n",
            "zero_padding2d_3 (ZeroPaddin (None, 4, 9, 128)         0         \n",
            "_________________________________________________________________\n",
            "conv2d_2 (Conv2D)            (None, 2, 7, 256)         295168    \n",
            "_________________________________________________________________\n",
            "zero_padding2d_4 (ZeroPaddin (None, 4, 9, 256)         0         \n",
            "_________________________________________________________________\n",
            "conv2d_3 (Conv2D)            (None, 3, 8, 256)         262400    \n",
            "_________________________________________________________________\n",
            "zero_padding2d_5 (ZeroPaddin (None, 5, 10, 256)        0         \n",
            "_________________________________________________________________\n",
            "conv2d_4 (Conv2D)            (None, 3, 8, 64)          147520    \n",
            "_________________________________________________________________\n",
            "zero_padding2d_6 (ZeroPaddin (None, 5, 10, 64)         0         \n",
            "_________________________________________________________________\n",
            "conv2d_5 (Conv2D)            (None, 3, 8, 64)          36928     \n",
            "_________________________________________________________________\n",
            "zero_padding2d_7 (ZeroPaddin (None, 5, 10, 64)         0         \n",
            "_________________________________________________________________\n",
            "conv2d_6 (Conv2D)            (None, 3, 8, 64)          36928     \n",
            "_________________________________________________________________\n",
            "zero_padding2d_8 (ZeroPaddin (None, 5, 10, 64)         0         \n",
            "_________________________________________________________________\n",
            "conv2d_7 (Conv2D)            (None, 3, 8, 64)          36928     \n",
            "_________________________________________________________________\n",
            "zero_padding2d_9 (ZeroPaddin (None, 5, 10, 64)         0         \n",
            "_________________________________________________________________\n",
            "max_pooling2d (MaxPooling2D) (None, 2, 5, 64)          0         \n",
            "_________________________________________________________________\n",
            "zero_padding2d_10 (ZeroPaddi (None, 4, 7, 64)          0         \n",
            "_________________________________________________________________\n",
            "conv2d_8 (Conv2D)            (None, 2, 5, 64)          36928     \n",
            "_________________________________________________________________\n",
            "zero_padding2d_11 (ZeroPaddi (None, 4, 7, 64)          0         \n",
            "_________________________________________________________________\n",
            "conv2d_9 (Conv2D)            (None, 2, 5, 64)          36928     \n",
            "_________________________________________________________________\n",
            "zero_padding2d_12 (ZeroPaddi (None, 4, 7, 64)          0         \n",
            "_________________________________________________________________\n",
            "conv2d_10 (Conv2D)           (None, 2, 5, 128)         73856     \n",
            "_________________________________________________________________\n",
            "zero_padding2d_13 (ZeroPaddi (None, 4, 7, 128)         0         \n",
            "_________________________________________________________________\n",
            "conv2d_11 (Conv2D)           (None, 3, 6, 128)         65664     \n",
            "_________________________________________________________________\n",
            "flatten (Flatten)            (None, 2304)              0         \n",
            "_________________________________________________________________\n",
            "dense1 (Dense)               (None, 256)               590080    \n",
            "_________________________________________________________________\n",
            "dropout (Dropout)            (None, 256)               0         \n",
            "_________________________________________________________________\n",
            "dense2 (Dense)               (None, 128)               32896     \n",
            "_________________________________________________________________\n",
            "dropout_1 (Dropout)          (None, 128)               0         \n",
            "_________________________________________________________________\n",
            "dense3 (Dense)               (None, 64)                8256      \n",
            "_________________________________________________________________\n",
            "dropout_2 (Dropout)          (None, 64)                0         \n",
            "_________________________________________________________________\n",
            "dense4 (Dense)               (None, 32)                2080      \n",
            "_________________________________________________________________\n",
            "dropout_3 (Dropout)          (None, 32)                0         \n",
            "_________________________________________________________________\n",
            "dense (Dense)                (None, 6)                 198       \n",
            "_________________________________________________________________\n",
            "reshape_1 (Reshape)          (None, 6)                 0         \n",
            "=================================================================\n",
            "Total params: 2,364,454\n",
            "Trainable params: 2,364,454\n",
            "Non-trainable params: 0\n",
            "_________________________________________________________________\n"
          ],
          "name": "stdout"
        }
      ]
    },
    {
      "cell_type": "code",
      "metadata": {
        "id": "pz4md_cNK-le"
      },
      "source": [
        "%load_ext tensorboard\n",
        "import datetime\n",
        "log_dir = \"logs/fit/\" + datetime.datetime.now().strftime(\"%Y%m%d-%H%M%S\")\n",
        "tensorboard_callback = tf.keras.callbacks.TensorBoard(log_dir=log_dir, histogram_freq=1)"
      ],
      "execution_count": null,
      "outputs": []
    },
    {
      "cell_type": "code",
      "metadata": {
        "colab": {
          "background_save": true,
          "base_uri": "https://localhost:8080/"
        },
        "id": "fGGX04brKijj",
        "outputId": "07293470-7733-44f2-fa1a-97b53551ac17"
      },
      "source": [
        "model_2.fit(X_train, Y_train, epochs = 100, batch_size = 64, validation_data=(X_test,Y_test), callbacks=[tensorboard_callback])"
      ],
      "execution_count": null,
      "outputs": [
        {
          "output_type": "stream",
          "text": [
            "Epoch 1/100\n",
            "40/40 [==============================] - 6s 61ms/step - loss: 10.2410 - accuracy: 0.1794 - val_loss: 2.6348 - val_accuracy: 0.1540\n",
            "Epoch 2/100\n",
            "40/40 [==============================] - 0s 11ms/step - loss: 2.2666 - accuracy: 0.1539 - val_loss: 1.8237 - val_accuracy: 0.1960\n",
            "Epoch 3/100\n",
            "40/40 [==============================] - 0s 11ms/step - loss: 1.8099 - accuracy: 0.1486 - val_loss: 1.7949 - val_accuracy: 0.1540\n",
            "Epoch 4/100\n",
            "40/40 [==============================] - 0s 10ms/step - loss: 1.7923 - accuracy: 0.1621 - val_loss: 1.7927 - val_accuracy: 0.1460\n",
            "Epoch 5/100\n",
            "40/40 [==============================] - 0s 10ms/step - loss: 1.7916 - accuracy: 0.1768 - val_loss: 1.7938 - val_accuracy: 0.1460\n",
            "Epoch 6/100\n",
            "40/40 [==============================] - 0s 11ms/step - loss: 1.7915 - accuracy: 0.1831 - val_loss: 1.7940 - val_accuracy: 0.1460\n",
            "Epoch 7/100\n",
            "40/40 [==============================] - 0s 11ms/step - loss: 1.7921 - accuracy: 0.1704 - val_loss: 1.7944 - val_accuracy: 0.1460\n",
            "Epoch 8/100\n",
            "40/40 [==============================] - 0s 10ms/step - loss: 1.7921 - accuracy: 0.1687 - val_loss: 1.7944 - val_accuracy: 0.1460\n",
            "Epoch 9/100\n",
            "40/40 [==============================] - 0s 10ms/step - loss: 1.7919 - accuracy: 0.1640 - val_loss: 1.7937 - val_accuracy: 0.1460\n",
            "Epoch 10/100\n",
            "40/40 [==============================] - 0s 11ms/step - loss: 1.7921 - accuracy: 0.1685 - val_loss: 1.7932 - val_accuracy: 0.1460\n",
            "Epoch 11/100\n",
            "40/40 [==============================] - 0s 10ms/step - loss: 1.7913 - accuracy: 0.1722 - val_loss: 1.7941 - val_accuracy: 0.1460\n",
            "Epoch 12/100\n",
            "40/40 [==============================] - 0s 10ms/step - loss: 1.7916 - accuracy: 0.1645 - val_loss: 1.7943 - val_accuracy: 0.1460\n",
            "Epoch 13/100\n",
            "40/40 [==============================] - 0s 10ms/step - loss: 1.7920 - accuracy: 0.1580 - val_loss: 1.7943 - val_accuracy: 0.1460\n",
            "Epoch 14/100\n",
            "40/40 [==============================] - 0s 11ms/step - loss: 1.7919 - accuracy: 0.1682 - val_loss: 1.7944 - val_accuracy: 0.1460\n",
            "Epoch 15/100\n",
            "40/40 [==============================] - 0s 10ms/step - loss: 1.7920 - accuracy: 0.1733 - val_loss: 1.7941 - val_accuracy: 0.1540\n",
            "Epoch 16/100\n",
            "40/40 [==============================] - 0s 11ms/step - loss: 1.7920 - accuracy: 0.1821 - val_loss: 1.7939 - val_accuracy: 0.1680\n",
            "Epoch 17/100\n",
            "40/40 [==============================] - 0s 11ms/step - loss: 1.7920 - accuracy: 0.1666 - val_loss: 1.7940 - val_accuracy: 0.1680\n",
            "Epoch 18/100\n",
            "40/40 [==============================] - 0s 10ms/step - loss: 1.7920 - accuracy: 0.1579 - val_loss: 1.7939 - val_accuracy: 0.1540\n",
            "Epoch 19/100\n",
            "40/40 [==============================] - 0s 11ms/step - loss: 1.7914 - accuracy: 0.1757 - val_loss: 1.7934 - val_accuracy: 0.1540\n",
            "Epoch 20/100\n",
            "40/40 [==============================] - 0s 10ms/step - loss: 1.7918 - accuracy: 0.1692 - val_loss: 1.7934 - val_accuracy: 0.1540\n",
            "Epoch 21/100\n",
            "40/40 [==============================] - 0s 10ms/step - loss: 1.7917 - accuracy: 0.1667 - val_loss: 1.7938 - val_accuracy: 0.1540\n",
            "Epoch 22/100\n",
            "40/40 [==============================] - 0s 10ms/step - loss: 1.7911 - accuracy: 0.1824 - val_loss: 1.7936 - val_accuracy: 0.1540\n",
            "Epoch 23/100\n",
            "40/40 [==============================] - 0s 10ms/step - loss: 1.7921 - accuracy: 0.1580 - val_loss: 1.7931 - val_accuracy: 0.1540\n",
            "Epoch 24/100\n",
            "40/40 [==============================] - 0s 10ms/step - loss: 1.7919 - accuracy: 0.1594 - val_loss: 1.7935 - val_accuracy: 0.1540\n",
            "Epoch 25/100\n",
            "40/40 [==============================] - 0s 11ms/step - loss: 1.7908 - accuracy: 0.1807 - val_loss: 1.7940 - val_accuracy: 0.1540\n",
            "Epoch 26/100\n",
            "40/40 [==============================] - 0s 11ms/step - loss: 1.7916 - accuracy: 0.1724 - val_loss: 1.7936 - val_accuracy: 0.1540\n",
            "Epoch 27/100\n",
            "40/40 [==============================] - 0s 10ms/step - loss: 1.7917 - accuracy: 0.1795 - val_loss: 1.7939 - val_accuracy: 0.1540\n",
            "Epoch 28/100\n",
            "40/40 [==============================] - 0s 10ms/step - loss: 1.7909 - accuracy: 0.1832 - val_loss: 1.7942 - val_accuracy: 0.1540\n",
            "Epoch 29/100\n",
            "40/40 [==============================] - 0s 11ms/step - loss: 1.7914 - accuracy: 0.1730 - val_loss: 1.7952 - val_accuracy: 0.1460\n",
            "Epoch 30/100\n",
            "40/40 [==============================] - 0s 11ms/step - loss: 1.7913 - accuracy: 0.1755 - val_loss: 1.7942 - val_accuracy: 0.1460\n",
            "Epoch 31/100\n",
            "40/40 [==============================] - 0s 10ms/step - loss: 1.7925 - accuracy: 0.1563 - val_loss: 1.7937 - val_accuracy: 0.1460\n",
            "Epoch 32/100\n",
            "40/40 [==============================] - 0s 11ms/step - loss: 1.7915 - accuracy: 0.1728 - val_loss: 1.7946 - val_accuracy: 0.1460\n",
            "Epoch 33/100\n",
            "40/40 [==============================] - 0s 11ms/step - loss: 1.7913 - accuracy: 0.1756 - val_loss: 1.7940 - val_accuracy: 0.1540\n",
            "Epoch 34/100\n",
            "40/40 [==============================] - 0s 11ms/step - loss: 1.7923 - accuracy: 0.1668 - val_loss: 1.7937 - val_accuracy: 0.1460\n",
            "Epoch 35/100\n",
            "40/40 [==============================] - 0s 11ms/step - loss: 1.7924 - accuracy: 0.1596 - val_loss: 1.7938 - val_accuracy: 0.1540\n",
            "Epoch 36/100\n",
            "40/40 [==============================] - 0s 10ms/step - loss: 1.7915 - accuracy: 0.1763 - val_loss: 1.7942 - val_accuracy: 0.1460\n",
            "Epoch 37/100\n",
            "40/40 [==============================] - 0s 10ms/step - loss: 1.7907 - accuracy: 0.1695 - val_loss: 1.7944 - val_accuracy: 0.1460\n",
            "Epoch 38/100\n",
            "40/40 [==============================] - 0s 10ms/step - loss: 1.7911 - accuracy: 0.1810 - val_loss: 1.7941 - val_accuracy: 0.1680\n",
            "Epoch 39/100\n",
            "40/40 [==============================] - 0s 10ms/step - loss: 1.7922 - accuracy: 0.1614 - val_loss: 1.7942 - val_accuracy: 0.1460\n",
            "Epoch 40/100\n",
            "40/40 [==============================] - 0s 11ms/step - loss: 1.7916 - accuracy: 0.1721 - val_loss: 1.7940 - val_accuracy: 0.1460\n",
            "Epoch 41/100\n",
            "40/40 [==============================] - 0s 11ms/step - loss: 1.7917 - accuracy: 0.1703 - val_loss: 1.7941 - val_accuracy: 0.1460\n",
            "Epoch 42/100\n",
            "40/40 [==============================] - 0s 10ms/step - loss: 1.7919 - accuracy: 0.1715 - val_loss: 1.7943 - val_accuracy: 0.1460\n",
            "Epoch 43/100\n",
            "40/40 [==============================] - 0s 11ms/step - loss: 1.7913 - accuracy: 0.1806 - val_loss: 1.7947 - val_accuracy: 0.1460\n",
            "Epoch 44/100\n",
            "40/40 [==============================] - 0s 11ms/step - loss: 1.7920 - accuracy: 0.1627 - val_loss: 1.7943 - val_accuracy: 0.1540\n",
            "Epoch 45/100\n",
            "40/40 [==============================] - 0s 11ms/step - loss: 1.7916 - accuracy: 0.1665 - val_loss: 1.7943 - val_accuracy: 0.1540\n",
            "Epoch 46/100\n",
            "40/40 [==============================] - 0s 11ms/step - loss: 1.7913 - accuracy: 0.1549 - val_loss: 1.7942 - val_accuracy: 0.1540\n",
            "Epoch 47/100\n",
            "40/40 [==============================] - 0s 11ms/step - loss: 1.7914 - accuracy: 0.1702 - val_loss: 1.7940 - val_accuracy: 0.1540\n",
            "Epoch 48/100\n",
            "40/40 [==============================] - 0s 10ms/step - loss: 1.7915 - accuracy: 0.1670 - val_loss: 1.7941 - val_accuracy: 0.1540\n",
            "Epoch 49/100\n",
            "40/40 [==============================] - 0s 10ms/step - loss: 1.7917 - accuracy: 0.1710 - val_loss: 1.7939 - val_accuracy: 0.1460\n",
            "Epoch 50/100\n",
            "40/40 [==============================] - 0s 10ms/step - loss: 1.7911 - accuracy: 0.1734 - val_loss: 1.7942 - val_accuracy: 0.1540\n",
            "Epoch 51/100\n",
            "40/40 [==============================] - 0s 11ms/step - loss: 1.7917 - accuracy: 0.1671 - val_loss: 1.7938 - val_accuracy: 0.1540\n",
            "Epoch 52/100\n",
            "40/40 [==============================] - 0s 11ms/step - loss: 1.7913 - accuracy: 0.1609 - val_loss: 1.7938 - val_accuracy: 0.1540\n",
            "Epoch 53/100\n",
            "40/40 [==============================] - 0s 10ms/step - loss: 1.7914 - accuracy: 0.1667 - val_loss: 1.7937 - val_accuracy: 0.1540\n",
            "Epoch 54/100\n",
            "40/40 [==============================] - 0s 10ms/step - loss: 1.7919 - accuracy: 0.1671 - val_loss: 1.7939 - val_accuracy: 0.1540\n",
            "Epoch 55/100\n",
            "40/40 [==============================] - 0s 11ms/step - loss: 1.7921 - accuracy: 0.1595 - val_loss: 1.7940 - val_accuracy: 0.1540\n",
            "Epoch 56/100\n",
            "40/40 [==============================] - 0s 10ms/step - loss: 1.7923 - accuracy: 0.1646 - val_loss: 1.7940 - val_accuracy: 0.1540\n",
            "Epoch 57/100\n",
            "40/40 [==============================] - 0s 10ms/step - loss: 1.7917 - accuracy: 0.1548 - val_loss: 1.7942 - val_accuracy: 0.1540\n",
            "Epoch 58/100\n",
            "40/40 [==============================] - 0s 11ms/step - loss: 1.7915 - accuracy: 0.1521 - val_loss: 1.7944 - val_accuracy: 0.1540\n",
            "Epoch 59/100\n",
            "40/40 [==============================] - 0s 11ms/step - loss: 1.7919 - accuracy: 0.1752 - val_loss: 1.7939 - val_accuracy: 0.1540\n",
            "Epoch 60/100\n",
            "40/40 [==============================] - 0s 11ms/step - loss: 1.7912 - accuracy: 0.1650 - val_loss: 1.7941 - val_accuracy: 0.1460\n",
            "Epoch 61/100\n",
            "40/40 [==============================] - 0s 11ms/step - loss: 1.7916 - accuracy: 0.1616 - val_loss: 1.7941 - val_accuracy: 0.1460\n",
            "Epoch 62/100\n",
            "40/40 [==============================] - 0s 11ms/step - loss: 1.7911 - accuracy: 0.1689 - val_loss: 1.7942 - val_accuracy: 0.1460\n",
            "Epoch 63/100\n",
            "40/40 [==============================] - 0s 11ms/step - loss: 1.7915 - accuracy: 0.1475 - val_loss: 1.7942 - val_accuracy: 0.1460\n",
            "Epoch 64/100\n",
            "40/40 [==============================] - 0s 10ms/step - loss: 1.7913 - accuracy: 0.1639 - val_loss: 1.7940 - val_accuracy: 0.1460\n",
            "Epoch 65/100\n",
            "40/40 [==============================] - 0s 11ms/step - loss: 1.7917 - accuracy: 0.1670 - val_loss: 1.7941 - val_accuracy: 0.1540\n",
            "Epoch 66/100\n",
            "40/40 [==============================] - 0s 10ms/step - loss: 1.7919 - accuracy: 0.1751 - val_loss: 1.7943 - val_accuracy: 0.1540\n",
            "Epoch 67/100\n",
            "40/40 [==============================] - 0s 11ms/step - loss: 1.7911 - accuracy: 0.1704 - val_loss: 1.7944 - val_accuracy: 0.1540\n",
            "Epoch 68/100\n",
            "40/40 [==============================] - 0s 10ms/step - loss: 1.7913 - accuracy: 0.1714 - val_loss: 1.7945 - val_accuracy: 0.1540\n",
            "Epoch 69/100\n",
            "40/40 [==============================] - 0s 10ms/step - loss: 1.7911 - accuracy: 0.1700 - val_loss: 1.7946 - val_accuracy: 0.1540\n",
            "Epoch 70/100\n",
            "40/40 [==============================] - 0s 10ms/step - loss: 1.7920 - accuracy: 0.1564 - val_loss: 1.7943 - val_accuracy: 0.1540\n",
            "Epoch 71/100\n",
            "40/40 [==============================] - 0s 10ms/step - loss: 1.7913 - accuracy: 0.1689 - val_loss: 1.7942 - val_accuracy: 0.1460\n",
            "Epoch 72/100\n",
            "40/40 [==============================] - 0s 10ms/step - loss: 1.7905 - accuracy: 0.1689 - val_loss: 1.7942 - val_accuracy: 0.1540\n",
            "Epoch 73/100\n",
            "40/40 [==============================] - 0s 11ms/step - loss: 1.7923 - accuracy: 0.1575 - val_loss: 1.7939 - val_accuracy: 0.1540\n",
            "Epoch 74/100\n",
            "40/40 [==============================] - 0s 10ms/step - loss: 1.7913 - accuracy: 0.1746 - val_loss: 1.7939 - val_accuracy: 0.1540\n",
            "Epoch 75/100\n",
            "40/40 [==============================] - 0s 11ms/step - loss: 1.7916 - accuracy: 0.1681 - val_loss: 1.7940 - val_accuracy: 0.1540\n",
            "Epoch 76/100\n",
            "40/40 [==============================] - 0s 10ms/step - loss: 1.7910 - accuracy: 0.1683 - val_loss: 1.7941 - val_accuracy: 0.1540\n",
            "Epoch 77/100\n",
            "40/40 [==============================] - 0s 11ms/step - loss: 1.7916 - accuracy: 0.1590 - val_loss: 1.7940 - val_accuracy: 0.1540\n",
            "Epoch 78/100\n",
            "40/40 [==============================] - 0s 10ms/step - loss: 1.7919 - accuracy: 0.1709 - val_loss: 1.7939 - val_accuracy: 0.1540\n",
            "Epoch 79/100\n",
            "40/40 [==============================] - 0s 10ms/step - loss: 1.7909 - accuracy: 0.1862 - val_loss: 1.7942 - val_accuracy: 0.1540\n",
            "Epoch 80/100\n",
            "40/40 [==============================] - 0s 11ms/step - loss: 1.7913 - accuracy: 0.1769 - val_loss: 1.7944 - val_accuracy: 0.1540\n",
            "Epoch 81/100\n",
            "40/40 [==============================] - 0s 11ms/step - loss: 1.7911 - accuracy: 0.1777 - val_loss: 1.7946 - val_accuracy: 0.1540\n",
            "Epoch 82/100\n",
            "40/40 [==============================] - 0s 10ms/step - loss: 1.7916 - accuracy: 0.1704 - val_loss: 1.7945 - val_accuracy: 0.1540\n",
            "Epoch 83/100\n",
            "40/40 [==============================] - 0s 11ms/step - loss: 1.7912 - accuracy: 0.1728 - val_loss: 1.7946 - val_accuracy: 0.1540\n",
            "Epoch 84/100\n",
            "40/40 [==============================] - 0s 10ms/step - loss: 1.7921 - accuracy: 0.1655 - val_loss: 1.7948 - val_accuracy: 0.1540\n",
            "Epoch 85/100\n",
            "40/40 [==============================] - 0s 10ms/step - loss: 1.7924 - accuracy: 0.1661 - val_loss: 1.7946 - val_accuracy: 0.1540\n",
            "Epoch 86/100\n",
            "40/40 [==============================] - 0s 10ms/step - loss: 1.7916 - accuracy: 0.1664 - val_loss: 1.7947 - val_accuracy: 0.1540\n",
            "Epoch 87/100\n",
            "40/40 [==============================] - 0s 10ms/step - loss: 1.7914 - accuracy: 0.1651 - val_loss: 1.7947 - val_accuracy: 0.1540\n",
            "Epoch 88/100\n",
            "40/40 [==============================] - 0s 11ms/step - loss: 1.7920 - accuracy: 0.1681 - val_loss: 1.7945 - val_accuracy: 0.1460\n",
            "Epoch 89/100\n",
            "40/40 [==============================] - 0s 11ms/step - loss: 1.7911 - accuracy: 0.1703 - val_loss: 1.7945 - val_accuracy: 0.1540\n",
            "Epoch 90/100\n",
            "40/40 [==============================] - 0s 11ms/step - loss: 1.7918 - accuracy: 0.1681 - val_loss: 1.7941 - val_accuracy: 0.1540\n",
            "Epoch 91/100\n",
            "40/40 [==============================] - 0s 10ms/step - loss: 1.7916 - accuracy: 0.1713 - val_loss: 1.7942 - val_accuracy: 0.1540\n",
            "Epoch 92/100\n",
            "40/40 [==============================] - 0s 11ms/step - loss: 1.7923 - accuracy: 0.1622 - val_loss: 1.7944 - val_accuracy: 0.1540\n",
            "Epoch 93/100\n",
            "40/40 [==============================] - 0s 10ms/step - loss: 1.7917 - accuracy: 0.1674 - val_loss: 1.7944 - val_accuracy: 0.1540\n",
            "Epoch 94/100\n",
            "40/40 [==============================] - 0s 11ms/step - loss: 1.7928 - accuracy: 0.1598 - val_loss: 1.7938 - val_accuracy: 0.1540\n",
            "Epoch 95/100\n",
            "40/40 [==============================] - 0s 10ms/step - loss: 1.7914 - accuracy: 0.1768 - val_loss: 1.7940 - val_accuracy: 0.1540\n",
            "Epoch 96/100\n",
            "40/40 [==============================] - 0s 11ms/step - loss: 1.7913 - accuracy: 0.1745 - val_loss: 1.7941 - val_accuracy: 0.1540\n",
            "Epoch 97/100\n",
            "40/40 [==============================] - 0s 11ms/step - loss: 1.7916 - accuracy: 0.1763 - val_loss: 1.7940 - val_accuracy: 0.1540\n",
            "Epoch 98/100\n",
            "40/40 [==============================] - 0s 11ms/step - loss: 1.7914 - accuracy: 0.1765 - val_loss: 1.7942 - val_accuracy: 0.1540\n",
            "Epoch 99/100\n",
            "40/40 [==============================] - 0s 11ms/step - loss: 1.7919 - accuracy: 0.1552 - val_loss: 1.7942 - val_accuracy: 0.1460\n",
            "Epoch 100/100\n",
            "40/40 [==============================] - 0s 11ms/step - loss: 1.7921 - accuracy: 0.1571 - val_loss: 1.7940 - val_accuracy: 0.1460\n"
          ],
          "name": "stdout"
        },
        {
          "output_type": "execute_result",
          "data": {
            "text/plain": [
              "<keras.callbacks.History at 0x7f914c410dd0>"
            ]
          },
          "metadata": {
            "tags": []
          },
          "execution_count": 0
        }
      ]
    },
    {
      "cell_type": "code",
      "metadata": {
        "id": "CbIOFifm_Od-"
      },
      "source": [
        " X_test[45], Y_test[45]"
      ],
      "execution_count": null,
      "outputs": []
    },
    {
      "cell_type": "code",
      "metadata": {
        "id": "42LYphWX_Oao"
      },
      "source": [
        "model_2.predict(np.expand_dims(X_test[45], axis=0))"
      ],
      "execution_count": null,
      "outputs": []
    },
    {
      "cell_type": "code",
      "metadata": {
        "id": "wTNPr3Gt_OXw"
      },
      "source": [
        "plt.plot(X_train[0].transpose())\n",
        "print(Y_train[0])"
      ],
      "execution_count": null,
      "outputs": []
    },
    {
      "cell_type": "code",
      "metadata": {
        "id": "f6hSL-DN_eLJ"
      },
      "source": [
        "for i in range(1, 100):\n",
        "  if Y_train[i].tolist() == [0, 0, 1, 0, 0, 0]:\n",
        "    break\n",
        "plt.plot(X_train[i].transpose())\n",
        "print(Y_train[i])\n",
        "print(i)"
      ],
      "execution_count": null,
      "outputs": []
    },
    {
      "cell_type": "code",
      "metadata": {
        "id": "xwVIv1E9_g1u"
      },
      "source": [
        "from sklearn.decomposition import PCA\n",
        "from sklearn.metrics import confusion_matrix"
      ],
      "execution_count": null,
      "outputs": []
    },
    {
      "cell_type": "code",
      "metadata": {
        "id": "kXXsr9___jKL"
      },
      "source": [
        "print(Y_train)\n",
        "y_pred_2 = model_2.predict(X_test)\n",
        "y_pred_2 = (y_pred_2 > 0.5) "
      ],
      "execution_count": null,
      "outputs": []
    },
    {
      "cell_type": "markdown",
      "metadata": {
        "id": "UXAte-rZqmGA"
      },
      "source": [
        "# **RESULTS**"
      ]
    },
    {
      "cell_type": "code",
      "metadata": {
        "colab": {
          "base_uri": "https://localhost:8080/"
        },
        "id": "pATaQ2an_muM",
        "outputId": "38c36f77-e868-4f0e-d7a1-c28470f386e0"
      },
      "source": [
        "mycm_2 = confusion_matrix(Y_test.argmax(axis=1), y_pred_2.argmax(axis=1))\n",
        "print(mycm_2)"
      ],
      "execution_count": null,
      "outputs": [
        {
          "output_type": "stream",
          "text": [
            "[[91  0  0  0  0  0]\n",
            " [15 58  0  0  0  0]\n",
            " [ 0 14 63  0  0  0]\n",
            " [ 0  0  8 89  1  0]\n",
            " [ 0  0  0  7 74  3]\n",
            " [ 0  0  0  0  1 76]]\n"
          ],
          "name": "stdout"
        }
      ]
    },
    {
      "cell_type": "code",
      "metadata": {
        "id": "LsUhkgY2_sjy"
      },
      "source": [
        "import numpy as np\n",
        "\n",
        "\n",
        "def plot_confusion_matrix(cm,\n",
        "                          target_names,\n",
        "                          title='Confusion matrix',\n",
        "                          cmap=None,\n",
        "                          normalize=True):\n",
        "    import matplotlib.pyplot as plt\n",
        "    import numpy as np\n",
        "    import itertools\n",
        "\n",
        "    accuracy = np.trace(cm) / float(np.sum(cm))\n",
        "    misclass = 1 - accuracy\n",
        "\n",
        "    if cmap is None:\n",
        "        cmap = plt.get_cmap('Blues')\n",
        "\n",
        "    plt.figure(figsize=(8, 6))\n",
        "    plt.imshow(cm, interpolation='nearest', cmap=cmap)\n",
        "    plt.title(title)\n",
        "    plt.colorbar()\n",
        "\n",
        "    if target_names is not None:\n",
        "        tick_marks = np.arange(len(target_names))\n",
        "        plt.xticks(tick_marks, target_names, rotation=45)\n",
        "        plt.yticks(tick_marks, target_names)\n",
        "\n",
        "    if normalize:\n",
        "        cm = cm.astype('float') / cm.sum(axis=1)[:, np.newaxis]\n",
        "\n",
        "\n",
        "    thresh = cm.max() / 1.5 if normalize else cm.max() / 2\n",
        "    for i, j in itertools.product(range(cm.shape[0]), range(cm.shape[1])):\n",
        "        if normalize:\n",
        "            plt.text(j, i, \"{:0.4f}\".format(cm[i, j]),\n",
        "                     horizontalalignment=\"center\",\n",
        "                     color=\"white\" if cm[i, j] > thresh else \"black\")\n",
        "        else:\n",
        "            plt.text(j, i, \"{:,}\".format(cm[i, j]),\n",
        "                     horizontalalignment=\"center\",\n",
        "                     color=\"white\" if cm[i, j] > thresh else \"black\")\n",
        "\n",
        "\n",
        "    plt.tight_layout()\n",
        "    plt.ylabel('True label')\n",
        "    plt.xlabel('Predicted label\\naccuracy={:0.4f}; misclass={:0.4f}'.format(accuracy, misclass))\n",
        "    plt.show()"
      ],
      "execution_count": null,
      "outputs": []
    },
    {
      "cell_type": "code",
      "metadata": {
        "colab": {
          "base_uri": "https://localhost:8080/",
          "height": 467
        },
        "id": "4vTIL_Yl_t7n",
        "outputId": "ca4fa667-e214-48f1-c73f-e58cc6b05db7"
      },
      "source": [
        "plot_confusion_matrix(cm           = mycm_2, \n",
        "                      normalize    = False,\n",
        "                      target_names = ['0-5', '6-10', '11-15', '16-20', '21-25', '26-30'],\n",
        "                      title        = \"Confusion Matrix\")"
      ],
      "execution_count": null,
      "outputs": [
        {
          "output_type": "display_data",
          "data": {
            "image/png": "[encoded data removed]",
            "text/plain": [
              "<Figure size 576x432 with 2 Axes>"
            ]
          },
          "metadata": {
            "tags": []
          }
        }
      ]
    },
    {
      "cell_type": "markdown",
      "metadata": {
        "id": "zqFsdu4jqFLK"
      },
      "source": [
        "# **OTHER ML MODELS**"
      ]
    },
    {
      "cell_type": "code",
      "metadata": {
        "id": "XPIrwg3WqE4f"
      },
      "source": [
        "# reaign the data in the right formate \n",
        "\n",
        "my_labels=np.zeros((3000,1))\n",
        "for i in range(3000):\n",
        "  if Y[i,0]==1:\n",
        "    my_labels[i]=1\n",
        "  elif Y[i,1]==1:\n",
        "    my_labels[i]=2\n",
        "  elif Y[i,2]==1:\n",
        "    my_labels[i]=3\n",
        "  elif Y[i,3]==1:\n",
        "    my_labels[i]=4\n",
        "  elif Y[i,4]==1:\n",
        "    my_labels[i]=5\n",
        "  else:\n",
        "    my_labels[i]=6"
      ],
      "execution_count": null,
      "outputs": []
    },
    {
      "cell_type": "code",
      "metadata": {
        "colab": {
          "base_uri": "https://localhost:8080/"
        },
        "id": "g6WTRdLFvBcO",
        "outputId": "cdad110d-7ae9-457e-d393-a0262e382ff3"
      },
      "source": [
        "#test to see the conversion was correct \n",
        "print(my_labels[2440])\n",
        "print(Y[2440])"
      ],
      "execution_count": null,
      "outputs": [
        {
          "output_type": "stream",
          "text": [
            "[3.]\n",
            "[0. 0. 1. 0. 0. 0.]\n"
          ],
          "name": "stdout"
        }
      ]
    },
    {
      "cell_type": "code",
      "metadata": {
        "colab": {
          "base_uri": "https://localhost:8080/"
        },
        "id": "T47Hv5M3x_y2",
        "outputId": "776a95a7-375b-4833-b586-d827d83ce8d2"
      },
      "source": [
        "print(X.shape)\n",
        "print(my_labels.shape)"
      ],
      "execution_count": null,
      "outputs": [
        {
          "output_type": "stream",
          "text": [
            "(3000, 2, 548)\n",
            "(3000, 1)\n"
          ],
          "name": "stdout"
        }
      ]
    },
    {
      "cell_type": "code",
      "metadata": {
        "colab": {
          "base_uri": "https://localhost:8080/"
        },
        "id": "PnzvG8nj1uAe",
        "outputId": "8a763add-4671-435f-c7f4-86f1b749ab96"
      },
      "source": [
        "X[0]"
      ],
      "execution_count": null,
      "outputs": [
        {
          "output_type": "execute_result",
          "data": {
            "text/plain": [
              "array([[ 0.01090652,  0.13959095, -0.01581117, ..., -0.14624046,\n",
              "         0.31024878, -0.19946527],\n",
              "       [ 0.16522877,  0.14345998, -0.08027198, ..., -0.16514072,\n",
              "         0.04409358, -0.00790446]])"
            ]
          },
          "metadata": {
            "tags": []
          },
          "execution_count": 59
        }
      ]
    },
    {
      "cell_type": "code",
      "metadata": {
        "id": "psnhDflX0JJD"
      },
      "source": [
        "#convert to complex shape\n",
        "X_new=np.empty((3000,548), dtype=complex, order='C')\n",
        "\n",
        "for i in range(3000):\n",
        "  for j in range(548):\n",
        "    X_new[i,j]=complex(X[i,0,j],X[i,1,j])"
      ],
      "execution_count": null,
      "outputs": []
    },
    {
      "cell_type": "code",
      "metadata": {
        "colab": {
          "base_uri": "https://localhost:8080/"
        },
        "id": "Bh7V0TO94Jqd",
        "outputId": "40859678-e800-467b-bc2e-b962ac63a689"
      },
      "source": [
        "X_new.shape"
      ],
      "execution_count": null,
      "outputs": [
        {
          "output_type": "execute_result",
          "data": {
            "text/plain": [
              "(3000, 548)"
            ]
          },
          "metadata": {
            "tags": []
          },
          "execution_count": 76
        }
      ]
    },
    {
      "cell_type": "code",
      "metadata": {
        "id": "AB3N_E3r4-tV"
      },
      "source": [
        "#use absolute as random forest doesn't cater real complex values \n",
        "X_new_2=np.abs(X_new)"
      ],
      "execution_count": null,
      "outputs": []
    },
    {
      "cell_type": "code",
      "metadata": {
        "colab": {
          "base_uri": "https://localhost:8080/"
        },
        "id": "dEtO6xxy5D9z",
        "outputId": "85a77639-a7a8-427e-96ad-52f4ad56205f"
      },
      "source": [
        "X_new_2.shape"
      ],
      "execution_count": null,
      "outputs": [
        {
          "output_type": "execute_result",
          "data": {
            "text/plain": [
              "(3000, 548)"
            ]
          },
          "metadata": {
            "tags": []
          },
          "execution_count": 81
        }
      ]
    },
    {
      "cell_type": "markdown",
      "metadata": {
        "id": "nKl0eZn35bwV"
      },
      "source": [
        "# **Random Forest**"
      ]
    },
    {
      "cell_type": "code",
      "metadata": {
        "id": "9F4BB3H6xXJw"
      },
      "source": [
        "#train test split for random forest \n",
        "from sklearn.model_selection import train_test_split\n",
        "X_train_rand, X_test_rand, y_train_rand, y_test_rand = train_test_split(X_new_2, my_labels, test_size=0.3)"
      ],
      "execution_count": null,
      "outputs": []
    },
    {
      "cell_type": "markdown",
      "metadata": {
        "id": "bSMCieKjD-dp"
      },
      "source": [
        ""
      ]
    },
    {
      "cell_type": "code",
      "metadata": {
        "colab": {
          "base_uri": "https://localhost:8080/"
        },
        "id": "r6MTO6UgyRaa",
        "outputId": "0b6abd76-9e80-44e7-d8e6-4dbeb3a29d79"
      },
      "source": [
        "from sklearn.ensemble import RandomForestClassifier\n",
        "\n",
        "#Create a Gaussian Classifier\n",
        "clf=RandomForestClassifier(n_estimators=20)\n",
        "\n",
        "#Train the model using the training sets y_pred=clf.predict(X_test)\n",
        "clf.fit(X_train_rand,y_train_rand)\n",
        "\n",
        "y_pred=clf.predict(X_test_rand)"
      ],
      "execution_count": null,
      "outputs": [
        {
          "output_type": "stream",
          "text": [
            "/usr/local/lib/python3.7/dist-packages/ipykernel_launcher.py:7: DataConversionWarning: A column-vector y was passed when a 1d array was expected. Please change the shape of y to (n_samples,), for example using ravel().\n",
            "  import sys\n"
          ],
          "name": "stderr"
        }
      ]
    },
    {
      "cell_type": "code",
      "metadata": {
        "colab": {
          "base_uri": "https://localhost:8080/"
        },
        "id": "tca5UVu05L6o",
        "outputId": "2611efe2-1ae3-4494-a2a7-f631088a6c9f"
      },
      "source": [
        "#Import scikit-learn metrics module for accuracy calculation\n",
        "from sklearn import metrics\n",
        "# Model Accuracy, how often is the classifier correct?\n",
        "print(\"Accuracy Random Forest:\",metrics.accuracy_score(y_test_rand, y_pred))"
      ],
      "execution_count": null,
      "outputs": [
        {
          "output_type": "stream",
          "text": [
            "Accuracy Random Forest: 0.8822222222222222\n"
          ],
          "name": "stdout"
        }
      ]
    },
    {
      "cell_type": "markdown",
      "metadata": {
        "id": "zlQPq-MF7I19"
      },
      "source": [
        "# **SVM**"
      ]
    },
    {
      "cell_type": "code",
      "metadata": {
        "colab": {
          "base_uri": "https://localhost:8080/"
        },
        "id": "IzqAOywS7Hz0",
        "outputId": "1492b803-a0f5-45c4-8686-4d2661bb4e63"
      },
      "source": [
        "from sklearn import svm\n",
        "import pandas as pd\n",
        "\n",
        "\n",
        "SVM = svm.LinearSVC()\n",
        "SVM.fit(X_train_rand,y_train_rand)\n",
        "y_pred_2=SVM.predict(X_test_rand)\n",
        "round(SVM.score(X_train_rand,y_train_rand), 10)\n"
      ],
      "execution_count": null,
      "outputs": [
        {
          "output_type": "stream",
          "text": [
            "/usr/local/lib/python3.7/dist-packages/sklearn/utils/validation.py:760: DataConversionWarning: A column-vector y was passed when a 1d array was expected. Please change the shape of y to (n_samples, ), for example using ravel().\n",
            "  y = column_or_1d(y, warn=True)\n",
            "/usr/local/lib/python3.7/dist-packages/sklearn/svm/_base.py:947: ConvergenceWarning: Liblinear failed to converge, increase the number of iterations.\n",
            "  \"the number of iterations.\", ConvergenceWarning)\n"
          ],
          "name": "stderr"
        },
        {
          "output_type": "execute_result",
          "data": {
            "text/plain": [
              "0.9147619048"
            ]
          },
          "metadata": {
            "tags": []
          },
          "execution_count": 93
        }
      ]
    },
    {
      "cell_type": "code",
      "metadata": {
        "colab": {
          "base_uri": "https://localhost:8080/"
        },
        "id": "z8Vks1FQ76Rf",
        "outputId": "6c45ba86-7f23-43d5-9593-f58f532fcdcb"
      },
      "source": [
        "#Import scikit-learn metrics module for accuracy calculation\n",
        "from sklearn import metrics\n",
        "# Model Accuracy, how often is the classifier correct?\n",
        "print(\"Accuracy SVM:\",metrics.accuracy_score(y_test_rand, y_pred_2))"
      ],
      "execution_count": null,
      "outputs": [
        {
          "output_type": "stream",
          "text": [
            "Accuracy SVM: 0.4577777777777778\n"
          ],
          "name": "stdout"
        }
      ]
    },
    {
      "cell_type": "markdown",
      "metadata": {
        "id": "Bj6tANzGEGW8"
      },
      "source": [
        "# **MLP CLASSIFIER**"
      ]
    },
    {
      "cell_type": "code",
      "metadata": {
        "colab": {
          "base_uri": "https://localhost:8080/"
        },
        "id": "Ep8l-j2BEFvQ",
        "outputId": "9293eb04-46e9-4d13-ac14-718a338bad87"
      },
      "source": [
        "from sklearn.neural_network import MLPClassifier\n",
        "\n",
        "NN = MLPClassifier(solver='lbfgs', alpha=1e-3, hidden_layer_sizes=(5, 2), random_state=1)\n",
        "NN.fit(X_train_rand,y_train_rand)\n",
        "y_predict_3=NN.predict(X_test_rand)\n",
        "round(NN.score(X_train_rand,y_train_rand), 4)"
      ],
      "execution_count": null,
      "outputs": [
        {
          "output_type": "stream",
          "text": [
            "/usr/local/lib/python3.7/dist-packages/sklearn/neural_network/_multilayer_perceptron.py:934: DataConversionWarning: A column-vector y was passed when a 1d array was expected. Please change the shape of y to (n_samples, ), for example using ravel().\n",
            "  y = column_or_1d(y, warn=True)\n",
            "/usr/local/lib/python3.7/dist-packages/sklearn/neural_network/_multilayer_perceptron.py:470: ConvergenceWarning: lbfgs failed to converge (status=1):\n",
            "STOP: TOTAL NO. of ITERATIONS REACHED LIMIT.\n",
            "\n",
            "Increase the number of iterations (max_iter) or scale the data as shown in:\n",
            "    https://scikit-learn.org/stable/modules/preprocessing.html\n",
            "  self.n_iter_ = _check_optimize_result(\"lbfgs\", opt_res, self.max_iter)\n"
          ],
          "name": "stderr"
        },
        {
          "output_type": "execute_result",
          "data": {
            "text/plain": [
              "0.9871"
            ]
          },
          "metadata": {
            "tags": []
          },
          "execution_count": 101
        }
      ]
    },
    {
      "cell_type": "code",
      "metadata": {
        "colab": {
          "base_uri": "https://localhost:8080/"
        },
        "id": "WMldVSiLEjcu",
        "outputId": "67a927ad-ba11-49fe-aff7-890e43001edc"
      },
      "source": [
        "#Import scikit-learn metrics module for accuracy calculation\n",
        "from sklearn import metrics\n",
        "# Model Accuracy, how often is the classifier correct?\n",
        "print(\"Accuracy MLP Classifier:\",metrics.accuracy_score(y_test_rand, y_predict_3))"
      ],
      "execution_count": null,
      "outputs": [
        {
          "output_type": "stream",
          "text": [
            "Accuracy MLP Classifier: 0.9844444444444445\n"
          ],
          "name": "stdout"
        }
      ]
    },
    {
      "cell_type": "code",
      "metadata": {
        "id": "YY-KbabCE3-H"
      },
      "source": [
        ""
      ],
      "execution_count": null,
      "outputs": []
    }
  ]
}